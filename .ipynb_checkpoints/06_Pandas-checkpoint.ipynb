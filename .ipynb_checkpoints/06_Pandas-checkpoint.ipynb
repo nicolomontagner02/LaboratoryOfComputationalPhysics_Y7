{
 "cells": [
  {
   "cell_type": "markdown",
   "metadata": {},
   "source": [
    "# Pandas\n",
    "\n",
    "The `numpy` module is excellent for numerical computations, but to handle missing data or arrays with mixed types takes more work. The `pandas` module is currently the most widely used tool for data manipulation, providing high-performance, easy-to-use data structures and advanced data analysis tools.\n",
    "\n",
    "In particular `pandas` features:\n",
    "\n",
    "* A fast and efficient \"DataFrame\" object for data manipulation with integrated indexing;\n",
    "* Tools for reading and writing data between in-memory data structures and different formats (CSV, Excel, SQL, HDF5);\n",
    "* Intelligent data alignment and integrated handling of missing data;\n",
    "* Intelligent label-based slicing, fancy indexing, and subsetting of large data sets;\n",
    "* Aggregating or transforming data with a powerful \"group-by\" engine; \n",
    "* High performance merging and joining of data sets;\n",
    "* Hierarchical axis indexing provides an intuitive way of working with high-dimensional data in a lower-dimensional data structure;\n",
    "* Time series-functionalities;\n",
    "* Highly optimized for performance, with critical code paths written in Cython or C.\n"
   ]
  },
  {
   "cell_type": "code",
   "execution_count": 1,
   "metadata": {},
   "outputs": [],
   "source": [
    "import pandas as pd\n",
    "import numpy as np"
   ]
  },
  {
   "cell_type": "markdown",
   "metadata": {},
   "source": [
    "## Series\n",
    "\n",
    "Series are completely equivalent to 1D array but with axis labels and the possibility to store heterogeneous elements. Of paramount importance are the time-series, used to define time evolutions of a phenomenon. \n"
   ]
  },
  {
   "cell_type": "code",
   "execution_count": 2,
   "metadata": {},
   "outputs": [
    {
     "name": "stdout",
     "output_type": "stream",
     "text": [
      "xs: a    0.0\n",
      "b    0.5\n",
      "c    1.0\n",
      "d    1.5\n",
      "e    2.0\n",
      "f    2.5\n",
      "g    3.0\n",
      "h    3.5\n",
      "i    4.0\n",
      "j    4.5\n",
      "dtype: float64 \n",
      "\n",
      "xs indexes: Index(['a', 'b', 'c', 'd', 'e', 'f', 'g', 'h', 'i', 'j'], dtype='object') \n",
      "\n",
      "xs values: [0.  0.5 1.  1.5 2.  2.5 3.  3.5 4.  4.5] <class 'numpy.ndarray'> \n",
      "\n",
      "2.5 2.5 3.5 \n",
      "\n",
      "d    1.5\n",
      "f    2.5\n",
      "h    3.5\n",
      "dtype: float64 \n",
      "\n",
      "<class 'pandas.core.series.Series'> \n",
      "\n"
     ]
    }
   ],
   "source": [
    "from string import ascii_lowercase as letters\n",
    "\n",
    "# Creating a series, accessing indexes, values and values by their index \n",
    "xs = pd.Series(np.arange(10)*0.5, index=tuple(letters[:10]))\n",
    "print (\"xs:\", xs,'\\n')\n",
    "print (\"xs indexes:\",xs.index,'\\n')\n",
    "# Values of the Series are actually a numpy array\n",
    "print (\"xs values:\", xs.values, type(xs.values),'\\n')\n",
    "print (xs['f'], xs.f, xs.h, '\\n')\n",
    "print (xs[['d', 'f', 'h']], '\\n')\n",
    "print (type(xs[['d', 'f', 'h']]), '\\n')"
   ]
  },
  {
   "cell_type": "code",
   "execution_count": 3,
   "metadata": {},
   "outputs": [
    {
     "name": "stdout",
     "output_type": "stream",
     "text": [
      "a    0.0\n",
      "b    0.5\n",
      "c    1.0\n",
      "dtype: float64 \n",
      "\n",
      "h    3.5\n",
      "i    4.0\n",
      "j    4.5\n",
      "dtype: float64 \n",
      "\n",
      "a    0.0\n",
      "d    1.5\n",
      "g    3.0\n",
      "j    4.5\n",
      "dtype: float64 \n",
      "\n",
      "h    3.5\n",
      "i    4.0\n",
      "j    4.5\n",
      "dtype: float64 \n",
      "\n",
      "a     1.000000\n",
      "b     1.648721\n",
      "c     2.718282\n",
      "d     4.481689\n",
      "e     7.389056\n",
      "f    12.182494\n",
      "g    20.085537\n",
      "h    33.115452\n",
      "i    54.598150\n",
      "j    90.017131\n",
      "dtype: float64 \n",
      "\n",
      "2.25 1.4361406616345072 \n",
      "\n"
     ]
    }
   ],
   "source": [
    "# Extracting elements and operations: same as numpy array\n",
    "print (xs[:3],'\\n')\n",
    "print (xs[7:], '\\n')\n",
    "print (xs[::3], '\\n')\n",
    "print (xs[xs>3], '\\n')\n",
    "print (np.exp(xs), '\\n')\n",
    "print (np.mean(xs), np.std(xs), '\\n')"
   ]
  },
  {
   "cell_type": "code",
   "execution_count": 4,
   "metadata": {},
   "outputs": [
    {
     "data": {
      "text/plain": [
       "b         1\n",
       "a       cat\n",
       "c    [2, 3]\n",
       "dtype: object"
      ]
     },
     "execution_count": 4,
     "metadata": {},
     "output_type": "execute_result"
    }
   ],
   "source": [
    "# Series can be created from python dictionary too.\n",
    "# Not that the elements can be whatever!\n",
    "d = {'b' : 1, 'a' : 'cat', 'c' : [2,3]}\n",
    "pd.Series(d)\n",
    "\n"
   ]
  },
  {
   "cell_type": "markdown",
   "metadata": {},
   "source": [
    "A key difference between Series and ndarray is that operations between Series automatically align the data based on label. Thus, you can write computations without considering whether the Series involved have the same labels."
   ]
  },
  {
   "cell_type": "code",
   "execution_count": 5,
   "metadata": {},
   "outputs": [
    {
     "name": "stdout",
     "output_type": "stream",
     "text": [
      "a   -0.523805\n",
      "b   -0.507347\n",
      "c    0.510729\n",
      "d    0.519166\n",
      "e    0.197489\n",
      "dtype: float64\n",
      "a         NaN\n",
      "b   -1.014695\n",
      "c    1.021459\n",
      "d    1.038331\n",
      "e         NaN\n",
      "dtype: float64\n"
     ]
    }
   ],
   "source": [
    "s = pd.Series(np.random.randn(5), index=tuple(letters[:5]))\n",
    "print(s)\n",
    "s = s[1:] + s[:-1]\n",
    "print(s)"
   ]
  },
  {
   "cell_type": "markdown",
   "metadata": {},
   "source": [
    "### Time series\n",
    "\n",
    "Time series are very often used to profile the behaviour of a quantity as a function of time. Pandas has a special index for that, `DatetimeIndex`, that can be created e.g. with the function `pd.data_range()`"
   ]
  },
  {
   "cell_type": "code",
   "execution_count": 6,
   "metadata": {},
   "outputs": [
    {
     "name": "stdout",
     "output_type": "stream",
     "text": [
      "2024-11-27\n",
      "2024-11-27 10:45:10.000015\n",
      "27/11/2024 10:45:00\n",
      "DatetimeIndex(['2024-11-27 10:45:00', '2024-11-28 10:45:00',\n",
      "               '2024-11-29 10:45:00', '2024-11-30 10:45:00',\n",
      "               '2024-12-01 10:45:00', '2024-12-02 10:45:00',\n",
      "               '2024-12-03 10:45:00'],\n",
      "              dtype='datetime64[ns]', freq='D')\n",
      "DatetimeIndex(['2024-11-27 10:45:00', '2024-11-27 10:45:01',\n",
      "               '2024-11-27 10:45:02', '2024-11-27 10:45:03',\n",
      "               '2024-11-27 10:45:04', '2024-11-27 10:45:05',\n",
      "               '2024-11-27 10:45:06', '2024-11-27 10:45:07',\n",
      "               '2024-11-27 10:45:08', '2024-11-27 10:45:09',\n",
      "               ...\n",
      "               '2024-11-27 11:44:50', '2024-11-27 11:44:51',\n",
      "               '2024-11-27 11:44:52', '2024-11-27 11:44:53',\n",
      "               '2024-11-27 11:44:54', '2024-11-27 11:44:55',\n",
      "               '2024-11-27 11:44:56', '2024-11-27 11:44:57',\n",
      "               '2024-11-27 11:44:58', '2024-11-27 11:44:59'],\n",
      "              dtype='datetime64[ns]', length=3600, freq='S')\n"
     ]
    }
   ],
   "source": [
    "# to define a date, the datetime module is very useful\n",
    "import datetime as dt\n",
    "date = dt.date.today()\n",
    "print(date)\n",
    "\n",
    "date = dt.datetime(2024,11,27,10,45,10,15)\n",
    "print (date)\n",
    "\n",
    "# otherwise, several notations are interpreted too\n",
    "date = 'Nov 27 2024'\n",
    "# or alternatively\n",
    "date = '27/11/2024 10:45:00'\n",
    "print (date)\n",
    "\n",
    "days = pd.date_range(date, periods=7, freq='D')\n",
    "print (days)\n",
    "\n",
    "seconds = pd.date_range(date, periods=3600, freq='s')\n",
    "print (seconds)\n"
   ]
  },
  {
   "cell_type": "markdown",
   "metadata": {},
   "source": [
    "To learn more about the frequency strings, please see this [link](http://pandas.pydata.org/pandas-docs/stable/timeseries.html#offset-aliases)\n",
    "\n",
    "\n",
    "Timestamped data is the most basic type of time series data that associates values with points in time. For pandas objects it means using the points in time.\n",
    "\n",
    "functions like `pd.to_datetime` can be used, for instance, when reading information as string from a dataset.\n",
    "\n",
    "Timestamp is the pandas equivalent of python’s Datetime and is interchangeable with it in most cases. "
   ]
  },
  {
   "cell_type": "code",
   "execution_count": 7,
   "metadata": {},
   "outputs": [
    {
     "name": "stdout",
     "output_type": "stream",
     "text": [
      "1604880000000000000\n",
      "<class 'pandas._libs.tslibs.timestamps.Timestamp'>\n",
      "1289520000000000000\n",
      "2010-11-12 00:00:00\n",
      "1289520000000000000\n"
     ]
    }
   ],
   "source": [
    "tstamp = pd.Timestamp(dt.datetime(2020, 11, 9))\n",
    "\n",
    "# internally it counts the nanoseconds from January 1st 19\n",
    "#tstamp = pd.Timestamp(dt.datetime(1970, 1, 1, 0, 0, 0, 1))\n",
    "print(tstamp.value)\n",
    "\n",
    "# when creating a timestamp the format can be explicitly passed\n",
    "ts = pd.to_datetime('2010/11/12', format='%Y/%m/%d')\n",
    "print (type(ts))\n",
    "print (ts.value)\n",
    "ts = pd.to_datetime('12-11-2010 00:00', format='%d-%m-%Y %H:%M')\n",
    "print (ts)\n",
    "print (ts.value)\n",
    "\n"
   ]
  },
  {
   "cell_type": "markdown",
   "metadata": {},
   "source": [
    "A standard series can be created and (range of) elements can be used as indexes"
   ]
  },
  {
   "cell_type": "code",
   "execution_count": 8,
   "metadata": {
    "scrolled": true
   },
   "outputs": [
    {
     "name": "stdout",
     "output_type": "stream",
     "text": [
      "2024-11-27 10:45:00     8.565378\n",
      "2024-11-28 10:45:00     9.015704\n",
      "2024-11-29 10:45:00    11.529653\n",
      "2024-11-30 10:45:00     8.932691\n",
      "Freq: D, dtype: float64 \n",
      "\n",
      "2024-11-27 10:45:00     8.565378\n",
      "2024-11-28 10:45:00     9.015704\n",
      "2024-11-29 10:45:00    11.529653\n",
      "2024-11-30 10:45:00     8.932691\n",
      "2024-12-01 10:45:00     9.177457\n",
      "2024-12-02 10:45:00    11.067570\n",
      "2024-12-03 10:45:00    11.064299\n",
      "Freq: D, dtype: float64 \n",
      "\n"
     ]
    }
   ],
   "source": [
    "tseries = pd.Series(np.random.normal(10, 1, len(days)), index=days)\n",
    "# Extracting elements\n",
    "print (tseries[0:4], '\\n')\n",
    "print (tseries['2024-11-27':'2024-12-03'], '\\n') # Note - includes end time\n"
   ]
  },
  {
   "cell_type": "markdown",
   "metadata": {},
   "source": [
    "`pd.to_datetime` can also be used to create a `DatetimeIndex`:"
   ]
  },
  {
   "cell_type": "code",
   "execution_count": 9,
   "metadata": {},
   "outputs": [
    {
     "data": {
      "text/plain": [
       "DatetimeIndex(['1980-02-04', '1980-02-05', '1980-02-06', '1980-02-07'], dtype='datetime64[ns]', freq=None)"
      ]
     },
     "execution_count": 9,
     "metadata": {},
     "output_type": "execute_result"
    }
   ],
   "source": [
    "pd.to_datetime([1, 2, 3, 4], unit='D', origin=pd.Timestamp('1980-02-03'))"
   ]
  },
  {
   "cell_type": "markdown",
   "metadata": {},
   "source": [
    "## DataFrame\n",
    "\n",
    "A pandas DataFrame is like a simple tabular spreadsheet. For future reference (or for people already familiar with R), a pandas DataFrame is very similar to the R DataFrame.\n",
    "\n",
    "Each column in a DataFrame is a Series object.\n",
    "\n",
    "The element can be whatever, missing data are dealt with too (as NaN)"
   ]
  },
  {
   "cell_type": "markdown",
   "metadata": {},
   "source": [
    "### DataFrame creation\n",
    "\n",
    "A DataFrame can be created implicitly, with, e.g., a DatatimeIndex object as index:"
   ]
  },
  {
   "cell_type": "code",
   "execution_count": 41,
   "metadata": {},
   "outputs": [
    {
     "data": {
      "text/html": [
       "<div>\n",
       "<style scoped>\n",
       "    .dataframe tbody tr th:only-of-type {\n",
       "        vertical-align: middle;\n",
       "    }\n",
       "\n",
       "    .dataframe tbody tr th {\n",
       "        vertical-align: top;\n",
       "    }\n",
       "\n",
       "    .dataframe thead th {\n",
       "        text-align: right;\n",
       "    }\n",
       "</style>\n",
       "<table border=\"1\" class=\"dataframe\">\n",
       "  <thead>\n",
       "    <tr style=\"text-align: right;\">\n",
       "      <th></th>\n",
       "      <th>A</th>\n",
       "      <th>B</th>\n",
       "      <th>C</th>\n",
       "      <th>D</th>\n",
       "    </tr>\n",
       "  </thead>\n",
       "  <tbody>\n",
       "    <tr>\n",
       "      <th>2024-11-27 10:45:00</th>\n",
       "      <td>0.467336</td>\n",
       "      <td>0.398963</td>\n",
       "      <td>-0.347048</td>\n",
       "      <td>-1.337509</td>\n",
       "    </tr>\n",
       "    <tr>\n",
       "      <th>2024-11-27 11:45:00</th>\n",
       "      <td>-0.669346</td>\n",
       "      <td>-0.339111</td>\n",
       "      <td>1.327432</td>\n",
       "      <td>-1.463204</td>\n",
       "    </tr>\n",
       "    <tr>\n",
       "      <th>2024-11-27 12:45:00</th>\n",
       "      <td>0.257581</td>\n",
       "      <td>-1.168623</td>\n",
       "      <td>-1.096456</td>\n",
       "      <td>0.367764</td>\n",
       "    </tr>\n",
       "    <tr>\n",
       "      <th>2024-11-27 13:45:00</th>\n",
       "      <td>0.220092</td>\n",
       "      <td>-1.424130</td>\n",
       "      <td>-1.394811</td>\n",
       "      <td>0.844851</td>\n",
       "    </tr>\n",
       "    <tr>\n",
       "      <th>2024-11-27 14:45:00</th>\n",
       "      <td>-0.284922</td>\n",
       "      <td>-0.523201</td>\n",
       "      <td>0.527956</td>\n",
       "      <td>0.085530</td>\n",
       "    </tr>\n",
       "    <tr>\n",
       "      <th>2024-11-27 15:45:00</th>\n",
       "      <td>0.744593</td>\n",
       "      <td>1.483091</td>\n",
       "      <td>-0.125902</td>\n",
       "      <td>0.604219</td>\n",
       "    </tr>\n",
       "    <tr>\n",
       "      <th>2024-11-27 16:45:00</th>\n",
       "      <td>-1.439066</td>\n",
       "      <td>-0.016151</td>\n",
       "      <td>-0.227225</td>\n",
       "      <td>0.500854</td>\n",
       "    </tr>\n",
       "    <tr>\n",
       "      <th>2024-11-27 17:45:00</th>\n",
       "      <td>0.487805</td>\n",
       "      <td>0.800614</td>\n",
       "      <td>-0.154188</td>\n",
       "      <td>-0.198414</td>\n",
       "    </tr>\n",
       "    <tr>\n",
       "      <th>2024-11-27 18:45:00</th>\n",
       "      <td>-0.121602</td>\n",
       "      <td>1.525129</td>\n",
       "      <td>1.378732</td>\n",
       "      <td>-0.591665</td>\n",
       "    </tr>\n",
       "    <tr>\n",
       "      <th>2024-11-27 19:45:00</th>\n",
       "      <td>-0.872702</td>\n",
       "      <td>-0.872619</td>\n",
       "      <td>0.899507</td>\n",
       "      <td>0.674610</td>\n",
       "    </tr>\n",
       "    <tr>\n",
       "      <th>2024-11-27 20:45:00</th>\n",
       "      <td>0.003938</td>\n",
       "      <td>-2.532158</td>\n",
       "      <td>0.261557</td>\n",
       "      <td>1.470710</td>\n",
       "    </tr>\n",
       "    <tr>\n",
       "      <th>2024-11-27 21:45:00</th>\n",
       "      <td>1.927852</td>\n",
       "      <td>0.816525</td>\n",
       "      <td>0.949101</td>\n",
       "      <td>0.301737</td>\n",
       "    </tr>\n",
       "    <tr>\n",
       "      <th>2024-11-27 22:45:00</th>\n",
       "      <td>1.789377</td>\n",
       "      <td>0.267922</td>\n",
       "      <td>0.307329</td>\n",
       "      <td>0.173499</td>\n",
       "    </tr>\n",
       "    <tr>\n",
       "      <th>2024-11-27 23:45:00</th>\n",
       "      <td>0.653839</td>\n",
       "      <td>-0.119474</td>\n",
       "      <td>0.311235</td>\n",
       "      <td>-0.661152</td>\n",
       "    </tr>\n",
       "    <tr>\n",
       "      <th>2024-11-28 00:45:00</th>\n",
       "      <td>-0.869871</td>\n",
       "      <td>-1.499775</td>\n",
       "      <td>-1.274422</td>\n",
       "      <td>-0.140681</td>\n",
       "    </tr>\n",
       "  </tbody>\n",
       "</table>\n",
       "</div>"
      ],
      "text/plain": [
       "                            A         B         C         D\n",
       "2024-11-27 10:45:00  0.467336  0.398963 -0.347048 -1.337509\n",
       "2024-11-27 11:45:00 -0.669346 -0.339111  1.327432 -1.463204\n",
       "2024-11-27 12:45:00  0.257581 -1.168623 -1.096456  0.367764\n",
       "2024-11-27 13:45:00  0.220092 -1.424130 -1.394811  0.844851\n",
       "2024-11-27 14:45:00 -0.284922 -0.523201  0.527956  0.085530\n",
       "2024-11-27 15:45:00  0.744593  1.483091 -0.125902  0.604219\n",
       "2024-11-27 16:45:00 -1.439066 -0.016151 -0.227225  0.500854\n",
       "2024-11-27 17:45:00  0.487805  0.800614 -0.154188 -0.198414\n",
       "2024-11-27 18:45:00 -0.121602  1.525129  1.378732 -0.591665\n",
       "2024-11-27 19:45:00 -0.872702 -0.872619  0.899507  0.674610\n",
       "2024-11-27 20:45:00  0.003938 -2.532158  0.261557  1.470710\n",
       "2024-11-27 21:45:00  1.927852  0.816525  0.949101  0.301737\n",
       "2024-11-27 22:45:00  1.789377  0.267922  0.307329  0.173499\n",
       "2024-11-27 23:45:00  0.653839 -0.119474  0.311235 -0.661152\n",
       "2024-11-28 00:45:00 -0.869871 -1.499775 -1.274422 -0.140681"
      ]
     },
     "execution_count": 41,
     "metadata": {},
     "output_type": "execute_result"
    }
   ],
   "source": [
    "entries=15\n",
    "dates=pd.date_range('11/27/2024 10:45:00',freq='h', periods=entries)\n",
    "df = pd.DataFrame(np.random.randn(entries,4), index=dates, columns=['A','B','C','D'])\n",
    "df\n"
   ]
  },
  {
   "cell_type": "markdown",
   "metadata": {},
   "source": [
    "or by means of a dictionary:\n"
   ]
  },
  {
   "cell_type": "code",
   "execution_count": 46,
   "metadata": {},
   "outputs": [
    {
     "data": {
      "text/html": [
       "<div>\n",
       "<style scoped>\n",
       "    .dataframe tbody tr th:only-of-type {\n",
       "        vertical-align: middle;\n",
       "    }\n",
       "\n",
       "    .dataframe tbody tr th {\n",
       "        vertical-align: top;\n",
       "    }\n",
       "\n",
       "    .dataframe thead th {\n",
       "        text-align: right;\n",
       "    }\n",
       "</style>\n",
       "<table border=\"1\" class=\"dataframe\">\n",
       "  <thead>\n",
       "    <tr style=\"text-align: right;\">\n",
       "      <th></th>\n",
       "      <th>A</th>\n",
       "      <th>B</th>\n",
       "      <th>C</th>\n",
       "      <th>D</th>\n",
       "      <th>E</th>\n",
       "    </tr>\n",
       "  </thead>\n",
       "  <tbody>\n",
       "    <tr>\n",
       "      <th>0</th>\n",
       "      <td>1.0</td>\n",
       "      <td>2013-01-02</td>\n",
       "      <td>1.0</td>\n",
       "      <td>7</td>\n",
       "      <td>test</td>\n",
       "    </tr>\n",
       "    <tr>\n",
       "      <th>1</th>\n",
       "      <td>1.0</td>\n",
       "      <td>2013-01-02</td>\n",
       "      <td>1.0</td>\n",
       "      <td>8</td>\n",
       "      <td>train</td>\n",
       "    </tr>\n",
       "    <tr>\n",
       "      <th>2</th>\n",
       "      <td>1.0</td>\n",
       "      <td>2013-01-02</td>\n",
       "      <td>1.0</td>\n",
       "      <td>9</td>\n",
       "      <td>test</td>\n",
       "    </tr>\n",
       "    <tr>\n",
       "      <th>3</th>\n",
       "      <td>1.0</td>\n",
       "      <td>2013-01-02</td>\n",
       "      <td>1.0</td>\n",
       "      <td>10</td>\n",
       "      <td>train</td>\n",
       "    </tr>\n",
       "  </tbody>\n",
       "</table>\n",
       "</div>"
      ],
      "text/plain": [
       "     A          B    C   D      E\n",
       "0  1.0 2013-01-02  1.0   7   test\n",
       "1  1.0 2013-01-02  1.0   8  train\n",
       "2  1.0 2013-01-02  1.0   9   test\n",
       "3  1.0 2013-01-02  1.0  10  train"
      ]
     },
     "execution_count": 46,
     "metadata": {},
     "output_type": "execute_result"
    }
   ],
   "source": [
    "df2 = pd.DataFrame(\n",
    "    { 'A' : 1.,\n",
    "      'B' : pd.Timestamp('20130102'),\n",
    "      'C' : pd.Series(1,index=range(4),dtype='float32'),\n",
    "      'D' : np.arange(7,11),\n",
    "      'E' : pd.Categorical([\"test\",\"train\",\"test\",\"train\"]),\n",
    "    }\n",
    "    )\n",
    "df2\n",
    "\n",
    "# check what happens if D and E had different lenghts "
   ]
  },
  {
   "cell_type": "markdown",
   "metadata": {},
   "source": [
    "### Viewing Data"
   ]
  },
  {
   "cell_type": "code",
   "execution_count": 47,
   "metadata": {},
   "outputs": [
    {
     "data": {
      "text/html": [
       "<div>\n",
       "<style scoped>\n",
       "    .dataframe tbody tr th:only-of-type {\n",
       "        vertical-align: middle;\n",
       "    }\n",
       "\n",
       "    .dataframe tbody tr th {\n",
       "        vertical-align: top;\n",
       "    }\n",
       "\n",
       "    .dataframe thead th {\n",
       "        text-align: right;\n",
       "    }\n",
       "</style>\n",
       "<table border=\"1\" class=\"dataframe\">\n",
       "  <thead>\n",
       "    <tr style=\"text-align: right;\">\n",
       "      <th></th>\n",
       "      <th>A</th>\n",
       "      <th>B</th>\n",
       "      <th>C</th>\n",
       "      <th>D</th>\n",
       "    </tr>\n",
       "  </thead>\n",
       "  <tbody>\n",
       "    <tr>\n",
       "      <th>2024-11-27 10:45:00</th>\n",
       "      <td>0.467336</td>\n",
       "      <td>0.398963</td>\n",
       "      <td>-0.347048</td>\n",
       "      <td>-1.337509</td>\n",
       "    </tr>\n",
       "    <tr>\n",
       "      <th>2024-11-27 11:45:00</th>\n",
       "      <td>-0.669346</td>\n",
       "      <td>-0.339111</td>\n",
       "      <td>1.327432</td>\n",
       "      <td>-1.463204</td>\n",
       "    </tr>\n",
       "  </tbody>\n",
       "</table>\n",
       "</div>"
      ],
      "text/plain": [
       "                            A         B         C         D\n",
       "2024-11-27 10:45:00  0.467336  0.398963 -0.347048 -1.337509\n",
       "2024-11-27 11:45:00 -0.669346 -0.339111  1.327432 -1.463204"
      ]
     },
     "execution_count": 47,
     "metadata": {},
     "output_type": "execute_result"
    }
   ],
   "source": [
    "df.head(2)"
   ]
  },
  {
   "cell_type": "code",
   "execution_count": 48,
   "metadata": {},
   "outputs": [
    {
     "data": {
      "text/html": [
       "<div>\n",
       "<style scoped>\n",
       "    .dataframe tbody tr th:only-of-type {\n",
       "        vertical-align: middle;\n",
       "    }\n",
       "\n",
       "    .dataframe tbody tr th {\n",
       "        vertical-align: top;\n",
       "    }\n",
       "\n",
       "    .dataframe thead th {\n",
       "        text-align: right;\n",
       "    }\n",
       "</style>\n",
       "<table border=\"1\" class=\"dataframe\">\n",
       "  <thead>\n",
       "    <tr style=\"text-align: right;\">\n",
       "      <th></th>\n",
       "      <th>A</th>\n",
       "      <th>B</th>\n",
       "      <th>C</th>\n",
       "      <th>D</th>\n",
       "    </tr>\n",
       "  </thead>\n",
       "  <tbody>\n",
       "    <tr>\n",
       "      <th>2024-11-27 21:45:00</th>\n",
       "      <td>1.927852</td>\n",
       "      <td>0.816525</td>\n",
       "      <td>0.949101</td>\n",
       "      <td>0.301737</td>\n",
       "    </tr>\n",
       "    <tr>\n",
       "      <th>2024-11-27 22:45:00</th>\n",
       "      <td>1.789377</td>\n",
       "      <td>0.267922</td>\n",
       "      <td>0.307329</td>\n",
       "      <td>0.173499</td>\n",
       "    </tr>\n",
       "    <tr>\n",
       "      <th>2024-11-27 23:45:00</th>\n",
       "      <td>0.653839</td>\n",
       "      <td>-0.119474</td>\n",
       "      <td>0.311235</td>\n",
       "      <td>-0.661152</td>\n",
       "    </tr>\n",
       "    <tr>\n",
       "      <th>2024-11-28 00:45:00</th>\n",
       "      <td>-0.869871</td>\n",
       "      <td>-1.499775</td>\n",
       "      <td>-1.274422</td>\n",
       "      <td>-0.140681</td>\n",
       "    </tr>\n",
       "  </tbody>\n",
       "</table>\n",
       "</div>"
      ],
      "text/plain": [
       "                            A         B         C         D\n",
       "2024-11-27 21:45:00  1.927852  0.816525  0.949101  0.301737\n",
       "2024-11-27 22:45:00  1.789377  0.267922  0.307329  0.173499\n",
       "2024-11-27 23:45:00  0.653839 -0.119474  0.311235 -0.661152\n",
       "2024-11-28 00:45:00 -0.869871 -1.499775 -1.274422 -0.140681"
      ]
     },
     "execution_count": 48,
     "metadata": {},
     "output_type": "execute_result"
    }
   ],
   "source": [
    "df.tail(4)"
   ]
  },
  {
   "cell_type": "code",
   "execution_count": 49,
   "metadata": {},
   "outputs": [
    {
     "data": {
      "text/plain": [
       "DatetimeIndex(['2024-11-27 10:45:00', '2024-11-27 11:45:00',\n",
       "               '2024-11-27 12:45:00', '2024-11-27 13:45:00',\n",
       "               '2024-11-27 14:45:00', '2024-11-27 15:45:00',\n",
       "               '2024-11-27 16:45:00', '2024-11-27 17:45:00',\n",
       "               '2024-11-27 18:45:00', '2024-11-27 19:45:00',\n",
       "               '2024-11-27 20:45:00', '2024-11-27 21:45:00',\n",
       "               '2024-11-27 22:45:00', '2024-11-27 23:45:00',\n",
       "               '2024-11-28 00:45:00'],\n",
       "              dtype='datetime64[ns]', freq='H')"
      ]
     },
     "execution_count": 49,
     "metadata": {},
     "output_type": "execute_result"
    }
   ],
   "source": [
    "df.index"
   ]
  },
  {
   "cell_type": "code",
   "execution_count": 50,
   "metadata": {},
   "outputs": [
    {
     "data": {
      "text/plain": [
       "Index(['A', 'B', 'C', 'D'], dtype='object')"
      ]
     },
     "execution_count": 50,
     "metadata": {},
     "output_type": "execute_result"
    }
   ],
   "source": [
    "df.columns"
   ]
  },
  {
   "cell_type": "code",
   "execution_count": 51,
   "metadata": {},
   "outputs": [
    {
     "data": {
      "text/plain": [
       "array([[ 0.46733577,  0.39896302, -0.34704793, -1.33750885],\n",
       "       [-0.66934582, -0.33911074,  1.32743222, -1.46320424],\n",
       "       [ 0.25758115, -1.16862272, -1.09645637,  0.36776443],\n",
       "       [ 0.2200923 , -1.42413047, -1.39481069,  0.8448513 ],\n",
       "       [-0.28492219, -0.52320135,  0.52795595,  0.08552956],\n",
       "       [ 0.74459257,  1.48309073, -0.12590202,  0.60421899],\n",
       "       [-1.43906649, -0.01615113, -0.22722457,  0.50085385],\n",
       "       [ 0.48780533,  0.80061413, -0.15418786, -0.19841449],\n",
       "       [-0.12160155,  1.52512864,  1.37873174, -0.59166494],\n",
       "       [-0.87270242, -0.87261926,  0.89950716,  0.6746103 ],\n",
       "       [ 0.00393755, -2.53215838,  0.26155675,  1.47070988],\n",
       "       [ 1.92785234,  0.81652495,  0.94910131,  0.3017374 ],\n",
       "       [ 1.78937655,  0.2679222 ,  0.30732868,  0.17349854],\n",
       "       [ 0.65383938, -0.11947424,  0.31123479, -0.66115188],\n",
       "       [-0.86987148, -1.49977506, -1.2744221 , -0.14068066]])"
      ]
     },
     "execution_count": 51,
     "metadata": {},
     "output_type": "execute_result"
    }
   ],
   "source": [
    "df.values"
   ]
  },
  {
   "cell_type": "code",
   "execution_count": 52,
   "metadata": {},
   "outputs": [
    {
     "data": {
      "text/html": [
       "<div>\n",
       "<style scoped>\n",
       "    .dataframe tbody tr th:only-of-type {\n",
       "        vertical-align: middle;\n",
       "    }\n",
       "\n",
       "    .dataframe tbody tr th {\n",
       "        vertical-align: top;\n",
       "    }\n",
       "\n",
       "    .dataframe thead th {\n",
       "        text-align: right;\n",
       "    }\n",
       "</style>\n",
       "<table border=\"1\" class=\"dataframe\">\n",
       "  <thead>\n",
       "    <tr style=\"text-align: right;\">\n",
       "      <th></th>\n",
       "      <th>A</th>\n",
       "      <th>B</th>\n",
       "      <th>C</th>\n",
       "      <th>D</th>\n",
       "    </tr>\n",
       "  </thead>\n",
       "  <tbody>\n",
       "    <tr>\n",
       "      <th>count</th>\n",
       "      <td>15.000000</td>\n",
       "      <td>15.000000</td>\n",
       "      <td>15.000000</td>\n",
       "      <td>15.000000</td>\n",
       "    </tr>\n",
       "    <tr>\n",
       "      <th>mean</th>\n",
       "      <td>0.152994</td>\n",
       "      <td>-0.213533</td>\n",
       "      <td>0.089520</td>\n",
       "      <td>0.042077</td>\n",
       "    </tr>\n",
       "    <tr>\n",
       "      <th>std</th>\n",
       "      <td>0.935554</td>\n",
       "      <td>1.152636</td>\n",
       "      <td>0.877281</td>\n",
       "      <td>0.800053</td>\n",
       "    </tr>\n",
       "    <tr>\n",
       "      <th>min</th>\n",
       "      <td>-1.439066</td>\n",
       "      <td>-2.532158</td>\n",
       "      <td>-1.394811</td>\n",
       "      <td>-1.463204</td>\n",
       "    </tr>\n",
       "    <tr>\n",
       "      <th>25%</th>\n",
       "      <td>-0.477134</td>\n",
       "      <td>-1.020621</td>\n",
       "      <td>-0.287136</td>\n",
       "      <td>-0.395040</td>\n",
       "    </tr>\n",
       "    <tr>\n",
       "      <th>50%</th>\n",
       "      <td>0.220092</td>\n",
       "      <td>-0.119474</td>\n",
       "      <td>0.261557</td>\n",
       "      <td>0.173499</td>\n",
       "    </tr>\n",
       "    <tr>\n",
       "      <th>75%</th>\n",
       "      <td>0.570822</td>\n",
       "      <td>0.599789</td>\n",
       "      <td>0.713732</td>\n",
       "      <td>0.552536</td>\n",
       "    </tr>\n",
       "    <tr>\n",
       "      <th>max</th>\n",
       "      <td>1.927852</td>\n",
       "      <td>1.525129</td>\n",
       "      <td>1.378732</td>\n",
       "      <td>1.470710</td>\n",
       "    </tr>\n",
       "  </tbody>\n",
       "</table>\n",
       "</div>"
      ],
      "text/plain": [
       "               A          B          C          D\n",
       "count  15.000000  15.000000  15.000000  15.000000\n",
       "mean    0.152994  -0.213533   0.089520   0.042077\n",
       "std     0.935554   1.152636   0.877281   0.800053\n",
       "min    -1.439066  -2.532158  -1.394811  -1.463204\n",
       "25%    -0.477134  -1.020621  -0.287136  -0.395040\n",
       "50%     0.220092  -0.119474   0.261557   0.173499\n",
       "75%     0.570822   0.599789   0.713732   0.552536\n",
       "max     1.927852   1.525129   1.378732   1.470710"
      ]
     },
     "execution_count": 52,
     "metadata": {},
     "output_type": "execute_result"
    }
   ],
   "source": [
    "df.describe()"
   ]
  },
  {
   "cell_type": "code",
   "execution_count": 53,
   "metadata": {},
   "outputs": [
    {
     "data": {
      "text/html": [
       "<div>\n",
       "<style scoped>\n",
       "    .dataframe tbody tr th:only-of-type {\n",
       "        vertical-align: middle;\n",
       "    }\n",
       "\n",
       "    .dataframe tbody tr th {\n",
       "        vertical-align: top;\n",
       "    }\n",
       "\n",
       "    .dataframe thead th {\n",
       "        text-align: right;\n",
       "    }\n",
       "</style>\n",
       "<table border=\"1\" class=\"dataframe\">\n",
       "  <thead>\n",
       "    <tr style=\"text-align: right;\">\n",
       "      <th></th>\n",
       "      <th>2024-11-27 10:45:00</th>\n",
       "      <th>2024-11-27 11:45:00</th>\n",
       "      <th>2024-11-27 12:45:00</th>\n",
       "      <th>2024-11-27 13:45:00</th>\n",
       "      <th>2024-11-27 14:45:00</th>\n",
       "      <th>2024-11-27 15:45:00</th>\n",
       "      <th>2024-11-27 16:45:00</th>\n",
       "      <th>2024-11-27 17:45:00</th>\n",
       "      <th>2024-11-27 18:45:00</th>\n",
       "      <th>2024-11-27 19:45:00</th>\n",
       "      <th>2024-11-27 20:45:00</th>\n",
       "      <th>2024-11-27 21:45:00</th>\n",
       "      <th>2024-11-27 22:45:00</th>\n",
       "      <th>2024-11-27 23:45:00</th>\n",
       "      <th>2024-11-28 00:45:00</th>\n",
       "    </tr>\n",
       "  </thead>\n",
       "  <tbody>\n",
       "    <tr>\n",
       "      <th>A</th>\n",
       "      <td>0.467336</td>\n",
       "      <td>-0.669346</td>\n",
       "      <td>0.257581</td>\n",
       "      <td>0.220092</td>\n",
       "      <td>-0.284922</td>\n",
       "      <td>0.744593</td>\n",
       "      <td>-1.439066</td>\n",
       "      <td>0.487805</td>\n",
       "      <td>-0.121602</td>\n",
       "      <td>-0.872702</td>\n",
       "      <td>0.003938</td>\n",
       "      <td>1.927852</td>\n",
       "      <td>1.789377</td>\n",
       "      <td>0.653839</td>\n",
       "      <td>-0.869871</td>\n",
       "    </tr>\n",
       "    <tr>\n",
       "      <th>B</th>\n",
       "      <td>0.398963</td>\n",
       "      <td>-0.339111</td>\n",
       "      <td>-1.168623</td>\n",
       "      <td>-1.424130</td>\n",
       "      <td>-0.523201</td>\n",
       "      <td>1.483091</td>\n",
       "      <td>-0.016151</td>\n",
       "      <td>0.800614</td>\n",
       "      <td>1.525129</td>\n",
       "      <td>-0.872619</td>\n",
       "      <td>-2.532158</td>\n",
       "      <td>0.816525</td>\n",
       "      <td>0.267922</td>\n",
       "      <td>-0.119474</td>\n",
       "      <td>-1.499775</td>\n",
       "    </tr>\n",
       "    <tr>\n",
       "      <th>C</th>\n",
       "      <td>-0.347048</td>\n",
       "      <td>1.327432</td>\n",
       "      <td>-1.096456</td>\n",
       "      <td>-1.394811</td>\n",
       "      <td>0.527956</td>\n",
       "      <td>-0.125902</td>\n",
       "      <td>-0.227225</td>\n",
       "      <td>-0.154188</td>\n",
       "      <td>1.378732</td>\n",
       "      <td>0.899507</td>\n",
       "      <td>0.261557</td>\n",
       "      <td>0.949101</td>\n",
       "      <td>0.307329</td>\n",
       "      <td>0.311235</td>\n",
       "      <td>-1.274422</td>\n",
       "    </tr>\n",
       "    <tr>\n",
       "      <th>D</th>\n",
       "      <td>-1.337509</td>\n",
       "      <td>-1.463204</td>\n",
       "      <td>0.367764</td>\n",
       "      <td>0.844851</td>\n",
       "      <td>0.085530</td>\n",
       "      <td>0.604219</td>\n",
       "      <td>0.500854</td>\n",
       "      <td>-0.198414</td>\n",
       "      <td>-0.591665</td>\n",
       "      <td>0.674610</td>\n",
       "      <td>1.470710</td>\n",
       "      <td>0.301737</td>\n",
       "      <td>0.173499</td>\n",
       "      <td>-0.661152</td>\n",
       "      <td>-0.140681</td>\n",
       "    </tr>\n",
       "  </tbody>\n",
       "</table>\n",
       "</div>"
      ],
      "text/plain": [
       "   2024-11-27 10:45:00  2024-11-27 11:45:00  2024-11-27 12:45:00  \\\n",
       "A             0.467336            -0.669346             0.257581   \n",
       "B             0.398963            -0.339111            -1.168623   \n",
       "C            -0.347048             1.327432            -1.096456   \n",
       "D            -1.337509            -1.463204             0.367764   \n",
       "\n",
       "   2024-11-27 13:45:00  2024-11-27 14:45:00  2024-11-27 15:45:00  \\\n",
       "A             0.220092            -0.284922             0.744593   \n",
       "B            -1.424130            -0.523201             1.483091   \n",
       "C            -1.394811             0.527956            -0.125902   \n",
       "D             0.844851             0.085530             0.604219   \n",
       "\n",
       "   2024-11-27 16:45:00  2024-11-27 17:45:00  2024-11-27 18:45:00  \\\n",
       "A            -1.439066             0.487805            -0.121602   \n",
       "B            -0.016151             0.800614             1.525129   \n",
       "C            -0.227225            -0.154188             1.378732   \n",
       "D             0.500854            -0.198414            -0.591665   \n",
       "\n",
       "   2024-11-27 19:45:00  2024-11-27 20:45:00  2024-11-27 21:45:00  \\\n",
       "A            -0.872702             0.003938             1.927852   \n",
       "B            -0.872619            -2.532158             0.816525   \n",
       "C             0.899507             0.261557             0.949101   \n",
       "D             0.674610             1.470710             0.301737   \n",
       "\n",
       "   2024-11-27 22:45:00  2024-11-27 23:45:00  2024-11-28 00:45:00  \n",
       "A             1.789377             0.653839            -0.869871  \n",
       "B             0.267922            -0.119474            -1.499775  \n",
       "C             0.307329             0.311235            -1.274422  \n",
       "D             0.173499            -0.661152            -0.140681  "
      ]
     },
     "execution_count": 53,
     "metadata": {},
     "output_type": "execute_result"
    }
   ],
   "source": [
    "df.T"
   ]
  },
  {
   "cell_type": "code",
   "execution_count": 61,
   "metadata": {},
   "outputs": [
    {
     "data": {
      "text/html": [
       "<div>\n",
       "<style scoped>\n",
       "    .dataframe tbody tr th:only-of-type {\n",
       "        vertical-align: middle;\n",
       "    }\n",
       "\n",
       "    .dataframe tbody tr th {\n",
       "        vertical-align: top;\n",
       "    }\n",
       "\n",
       "    .dataframe thead th {\n",
       "        text-align: right;\n",
       "    }\n",
       "</style>\n",
       "<table border=\"1\" class=\"dataframe\">\n",
       "  <thead>\n",
       "    <tr style=\"text-align: right;\">\n",
       "      <th></th>\n",
       "      <th>A</th>\n",
       "      <th>B</th>\n",
       "      <th>C</th>\n",
       "      <th>D</th>\n",
       "    </tr>\n",
       "  </thead>\n",
       "  <tbody>\n",
       "    <tr>\n",
       "      <th>2024-11-28 00:45:00</th>\n",
       "      <td>-0.869871</td>\n",
       "      <td>-1.499775</td>\n",
       "      <td>-1.274422</td>\n",
       "      <td>-0.140681</td>\n",
       "    </tr>\n",
       "    <tr>\n",
       "      <th>2024-11-27 23:45:00</th>\n",
       "      <td>0.653839</td>\n",
       "      <td>-0.119474</td>\n",
       "      <td>0.311235</td>\n",
       "      <td>-0.661152</td>\n",
       "    </tr>\n",
       "    <tr>\n",
       "      <th>2024-11-27 22:45:00</th>\n",
       "      <td>1.789377</td>\n",
       "      <td>0.267922</td>\n",
       "      <td>0.307329</td>\n",
       "      <td>0.173499</td>\n",
       "    </tr>\n",
       "    <tr>\n",
       "      <th>2024-11-27 21:45:00</th>\n",
       "      <td>1.927852</td>\n",
       "      <td>0.816525</td>\n",
       "      <td>0.949101</td>\n",
       "      <td>0.301737</td>\n",
       "    </tr>\n",
       "    <tr>\n",
       "      <th>2024-11-27 20:45:00</th>\n",
       "      <td>0.003938</td>\n",
       "      <td>-2.532158</td>\n",
       "      <td>0.261557</td>\n",
       "      <td>1.470710</td>\n",
       "    </tr>\n",
       "    <tr>\n",
       "      <th>2024-11-27 19:45:00</th>\n",
       "      <td>-0.872702</td>\n",
       "      <td>-0.872619</td>\n",
       "      <td>0.899507</td>\n",
       "      <td>0.674610</td>\n",
       "    </tr>\n",
       "    <tr>\n",
       "      <th>2024-11-27 18:45:00</th>\n",
       "      <td>-0.121602</td>\n",
       "      <td>1.525129</td>\n",
       "      <td>1.378732</td>\n",
       "      <td>-0.591665</td>\n",
       "    </tr>\n",
       "    <tr>\n",
       "      <th>2024-11-27 17:45:00</th>\n",
       "      <td>0.487805</td>\n",
       "      <td>0.800614</td>\n",
       "      <td>-0.154188</td>\n",
       "      <td>-0.198414</td>\n",
       "    </tr>\n",
       "    <tr>\n",
       "      <th>2024-11-27 16:45:00</th>\n",
       "      <td>-1.439066</td>\n",
       "      <td>-0.016151</td>\n",
       "      <td>-0.227225</td>\n",
       "      <td>0.500854</td>\n",
       "    </tr>\n",
       "    <tr>\n",
       "      <th>2024-11-27 15:45:00</th>\n",
       "      <td>0.744593</td>\n",
       "      <td>1.483091</td>\n",
       "      <td>-0.125902</td>\n",
       "      <td>0.604219</td>\n",
       "    </tr>\n",
       "    <tr>\n",
       "      <th>2024-11-27 14:45:00</th>\n",
       "      <td>-0.284922</td>\n",
       "      <td>-0.523201</td>\n",
       "      <td>0.527956</td>\n",
       "      <td>0.085530</td>\n",
       "    </tr>\n",
       "    <tr>\n",
       "      <th>2024-11-27 13:45:00</th>\n",
       "      <td>0.220092</td>\n",
       "      <td>-1.424130</td>\n",
       "      <td>-1.394811</td>\n",
       "      <td>0.844851</td>\n",
       "    </tr>\n",
       "    <tr>\n",
       "      <th>2024-11-27 12:45:00</th>\n",
       "      <td>0.257581</td>\n",
       "      <td>-1.168623</td>\n",
       "      <td>-1.096456</td>\n",
       "      <td>0.367764</td>\n",
       "    </tr>\n",
       "    <tr>\n",
       "      <th>2024-11-27 11:45:00</th>\n",
       "      <td>-0.669346</td>\n",
       "      <td>-0.339111</td>\n",
       "      <td>1.327432</td>\n",
       "      <td>-1.463204</td>\n",
       "    </tr>\n",
       "    <tr>\n",
       "      <th>2024-11-27 10:45:00</th>\n",
       "      <td>0.467336</td>\n",
       "      <td>0.398963</td>\n",
       "      <td>-0.347048</td>\n",
       "      <td>-1.337509</td>\n",
       "    </tr>\n",
       "  </tbody>\n",
       "</table>\n",
       "</div>"
      ],
      "text/plain": [
       "                            A         B         C         D\n",
       "2024-11-28 00:45:00 -0.869871 -1.499775 -1.274422 -0.140681\n",
       "2024-11-27 23:45:00  0.653839 -0.119474  0.311235 -0.661152\n",
       "2024-11-27 22:45:00  1.789377  0.267922  0.307329  0.173499\n",
       "2024-11-27 21:45:00  1.927852  0.816525  0.949101  0.301737\n",
       "2024-11-27 20:45:00  0.003938 -2.532158  0.261557  1.470710\n",
       "2024-11-27 19:45:00 -0.872702 -0.872619  0.899507  0.674610\n",
       "2024-11-27 18:45:00 -0.121602  1.525129  1.378732 -0.591665\n",
       "2024-11-27 17:45:00  0.487805  0.800614 -0.154188 -0.198414\n",
       "2024-11-27 16:45:00 -1.439066 -0.016151 -0.227225  0.500854\n",
       "2024-11-27 15:45:00  0.744593  1.483091 -0.125902  0.604219\n",
       "2024-11-27 14:45:00 -0.284922 -0.523201  0.527956  0.085530\n",
       "2024-11-27 13:45:00  0.220092 -1.424130 -1.394811  0.844851\n",
       "2024-11-27 12:45:00  0.257581 -1.168623 -1.096456  0.367764\n",
       "2024-11-27 11:45:00 -0.669346 -0.339111  1.327432 -1.463204\n",
       "2024-11-27 10:45:00  0.467336  0.398963 -0.347048 -1.337509"
      ]
     },
     "execution_count": 61,
     "metadata": {},
     "output_type": "execute_result"
    }
   ],
   "source": [
    "df.sort_index(axis=0,ascending=0)"
   ]
  },
  {
   "cell_type": "code",
   "execution_count": 63,
   "metadata": {},
   "outputs": [
    {
     "data": {
      "text/html": [
       "<div>\n",
       "<style scoped>\n",
       "    .dataframe tbody tr th:only-of-type {\n",
       "        vertical-align: middle;\n",
       "    }\n",
       "\n",
       "    .dataframe tbody tr th {\n",
       "        vertical-align: top;\n",
       "    }\n",
       "\n",
       "    .dataframe thead th {\n",
       "        text-align: right;\n",
       "    }\n",
       "</style>\n",
       "<table border=\"1\" class=\"dataframe\">\n",
       "  <thead>\n",
       "    <tr style=\"text-align: right;\">\n",
       "      <th></th>\n",
       "      <th>A</th>\n",
       "      <th>B</th>\n",
       "      <th>C</th>\n",
       "      <th>D</th>\n",
       "    </tr>\n",
       "  </thead>\n",
       "  <tbody>\n",
       "    <tr>\n",
       "      <th>2024-11-27 16:45:00</th>\n",
       "      <td>-1.439066</td>\n",
       "      <td>-0.016151</td>\n",
       "      <td>-0.227225</td>\n",
       "      <td>0.500854</td>\n",
       "    </tr>\n",
       "    <tr>\n",
       "      <th>2024-11-27 19:45:00</th>\n",
       "      <td>-0.872702</td>\n",
       "      <td>-0.872619</td>\n",
       "      <td>0.899507</td>\n",
       "      <td>0.674610</td>\n",
       "    </tr>\n",
       "    <tr>\n",
       "      <th>2024-11-28 00:45:00</th>\n",
       "      <td>-0.869871</td>\n",
       "      <td>-1.499775</td>\n",
       "      <td>-1.274422</td>\n",
       "      <td>-0.140681</td>\n",
       "    </tr>\n",
       "    <tr>\n",
       "      <th>2024-11-27 11:45:00</th>\n",
       "      <td>-0.669346</td>\n",
       "      <td>-0.339111</td>\n",
       "      <td>1.327432</td>\n",
       "      <td>-1.463204</td>\n",
       "    </tr>\n",
       "    <tr>\n",
       "      <th>2024-11-27 14:45:00</th>\n",
       "      <td>-0.284922</td>\n",
       "      <td>-0.523201</td>\n",
       "      <td>0.527956</td>\n",
       "      <td>0.085530</td>\n",
       "    </tr>\n",
       "    <tr>\n",
       "      <th>2024-11-27 18:45:00</th>\n",
       "      <td>-0.121602</td>\n",
       "      <td>1.525129</td>\n",
       "      <td>1.378732</td>\n",
       "      <td>-0.591665</td>\n",
       "    </tr>\n",
       "    <tr>\n",
       "      <th>2024-11-27 20:45:00</th>\n",
       "      <td>0.003938</td>\n",
       "      <td>-2.532158</td>\n",
       "      <td>0.261557</td>\n",
       "      <td>1.470710</td>\n",
       "    </tr>\n",
       "    <tr>\n",
       "      <th>2024-11-27 13:45:00</th>\n",
       "      <td>0.220092</td>\n",
       "      <td>-1.424130</td>\n",
       "      <td>-1.394811</td>\n",
       "      <td>0.844851</td>\n",
       "    </tr>\n",
       "    <tr>\n",
       "      <th>2024-11-27 12:45:00</th>\n",
       "      <td>0.257581</td>\n",
       "      <td>-1.168623</td>\n",
       "      <td>-1.096456</td>\n",
       "      <td>0.367764</td>\n",
       "    </tr>\n",
       "    <tr>\n",
       "      <th>2024-11-27 10:45:00</th>\n",
       "      <td>0.467336</td>\n",
       "      <td>0.398963</td>\n",
       "      <td>-0.347048</td>\n",
       "      <td>-1.337509</td>\n",
       "    </tr>\n",
       "    <tr>\n",
       "      <th>2024-11-27 17:45:00</th>\n",
       "      <td>0.487805</td>\n",
       "      <td>0.800614</td>\n",
       "      <td>-0.154188</td>\n",
       "      <td>-0.198414</td>\n",
       "    </tr>\n",
       "    <tr>\n",
       "      <th>2024-11-27 23:45:00</th>\n",
       "      <td>0.653839</td>\n",
       "      <td>-0.119474</td>\n",
       "      <td>0.311235</td>\n",
       "      <td>-0.661152</td>\n",
       "    </tr>\n",
       "    <tr>\n",
       "      <th>2024-11-27 15:45:00</th>\n",
       "      <td>0.744593</td>\n",
       "      <td>1.483091</td>\n",
       "      <td>-0.125902</td>\n",
       "      <td>0.604219</td>\n",
       "    </tr>\n",
       "    <tr>\n",
       "      <th>2024-11-27 22:45:00</th>\n",
       "      <td>1.789377</td>\n",
       "      <td>0.267922</td>\n",
       "      <td>0.307329</td>\n",
       "      <td>0.173499</td>\n",
       "    </tr>\n",
       "    <tr>\n",
       "      <th>2024-11-27 21:45:00</th>\n",
       "      <td>1.927852</td>\n",
       "      <td>0.816525</td>\n",
       "      <td>0.949101</td>\n",
       "      <td>0.301737</td>\n",
       "    </tr>\n",
       "  </tbody>\n",
       "</table>\n",
       "</div>"
      ],
      "text/plain": [
       "                            A         B         C         D\n",
       "2024-11-27 16:45:00 -1.439066 -0.016151 -0.227225  0.500854\n",
       "2024-11-27 19:45:00 -0.872702 -0.872619  0.899507  0.674610\n",
       "2024-11-28 00:45:00 -0.869871 -1.499775 -1.274422 -0.140681\n",
       "2024-11-27 11:45:00 -0.669346 -0.339111  1.327432 -1.463204\n",
       "2024-11-27 14:45:00 -0.284922 -0.523201  0.527956  0.085530\n",
       "2024-11-27 18:45:00 -0.121602  1.525129  1.378732 -0.591665\n",
       "2024-11-27 20:45:00  0.003938 -2.532158  0.261557  1.470710\n",
       "2024-11-27 13:45:00  0.220092 -1.424130 -1.394811  0.844851\n",
       "2024-11-27 12:45:00  0.257581 -1.168623 -1.096456  0.367764\n",
       "2024-11-27 10:45:00  0.467336  0.398963 -0.347048 -1.337509\n",
       "2024-11-27 17:45:00  0.487805  0.800614 -0.154188 -0.198414\n",
       "2024-11-27 23:45:00  0.653839 -0.119474  0.311235 -0.661152\n",
       "2024-11-27 15:45:00  0.744593  1.483091 -0.125902  0.604219\n",
       "2024-11-27 22:45:00  1.789377  0.267922  0.307329  0.173499\n",
       "2024-11-27 21:45:00  1.927852  0.816525  0.949101  0.301737"
      ]
     },
     "execution_count": 63,
     "metadata": {},
     "output_type": "execute_result"
    }
   ],
   "source": [
    "df.sort_values(by=\"A\")"
   ]
  },
  {
   "cell_type": "markdown",
   "metadata": {},
   "source": [
    "## Selection\n",
    "\n",
    "### Getting slices\n",
    "\n",
    "The following show how to get part of the DataFrame (i.e. not just the elements)"
   ]
  },
  {
   "cell_type": "code",
   "execution_count": null,
   "metadata": {},
   "outputs": [],
   "source": [
    "## standard and safe\n",
    "print (df['A'],'\\n')\n",
    "\n",
    "## equivalent but dangerous (imagine blank spaces in the name of the column..)\n",
    "print (df.A)"
   ]
  },
  {
   "cell_type": "code",
   "execution_count": null,
   "metadata": {},
   "outputs": [],
   "source": [
    "# selecting rows by counting\n",
    "print (df[0:3])\n",
    "\n",
    "# or by index\n",
    "print (df[\"2024-11-27 10:45:00\":\"2024-11-27 12:45:00\"])"
   ]
  },
  {
   "cell_type": "markdown",
   "metadata": {},
   "source": [
    "### Selection by label"
   ]
  },
  {
   "cell_type": "code",
   "execution_count": null,
   "metadata": {},
   "outputs": [],
   "source": [
    "# getting a cross section (part of the DataFrame) using a label\n",
    "df.loc[dates[0]]"
   ]
  },
  {
   "cell_type": "code",
   "execution_count": null,
   "metadata": {},
   "outputs": [],
   "source": [
    "# selecting on a multi-axis by label:\n",
    "df.loc[:,['A','B']]\n",
    "#a=df.loc[:,['A','B']]"
   ]
  },
  {
   "cell_type": "code",
   "execution_count": null,
   "metadata": {},
   "outputs": [],
   "source": [
    "# showing label slicing, both endpoints are included:\n",
    "df.loc['2024-11-27 14:45:00':'2024-11-27 16:45:00',['A','B']]"
   ]
  },
  {
   "cell_type": "code",
   "execution_count": null,
   "metadata": {},
   "outputs": [],
   "source": [
    "# getting an individual element\n",
    "print (df.loc[dates[1],'A'])\n",
    "\n",
    "# equivalently\n",
    "print (df.at[dates[1],'A'])"
   ]
  },
  {
   "cell_type": "markdown",
   "metadata": {},
   "source": [
    "### Selecting by position"
   ]
  },
  {
   "cell_type": "code",
   "execution_count": null,
   "metadata": {},
   "outputs": [],
   "source": [
    "# select via the position of the passed integers:\n",
    "print (df.iloc[3],'\\n')\n",
    "\n",
    "# notation similar to numpy/python\n",
    "print (df.iloc[3:5,0:2])"
   ]
  },
  {
   "cell_type": "code",
   "execution_count": null,
   "metadata": {},
   "outputs": [],
   "source": [
    "# selecting raws 1,2 and 4 for columns 0 and 2\n",
    "df.iloc[[1,2,4],[0,2]]"
   ]
  },
  {
   "cell_type": "code",
   "execution_count": null,
   "metadata": {},
   "outputs": [],
   "source": [
    "# slicing rows explicitly\n",
    "print (df.iloc[1:3,:],'\\n')\n",
    "\n",
    "# slicing columns explicitly\n",
    "print (df.iloc[:,1:3])\n",
    "\n",
    "# selecting an individual element by position\n",
    "print(df.iloc[1,1])"
   ]
  },
  {
   "cell_type": "markdown",
   "metadata": {},
   "source": [
    "### Boolean index\n",
    "\n",
    "Very powerful way of filtering out data with certain features. Notation is very similar to numpy arrays."
   ]
  },
  {
   "cell_type": "code",
   "execution_count": null,
   "metadata": {},
   "outputs": [],
   "source": [
    "# Filter by a boolean condition on the values of a single column\n",
    "df[df['B'] > 0]"
   ]
  },
  {
   "cell_type": "code",
   "execution_count": null,
   "metadata": {},
   "outputs": [],
   "source": [
    "# Selecting on the basis of boolean conditions applied to the whole DataFrame\n",
    "df[df>0]\n",
    "\n",
    "# a DataFrame with the same shape is returned, with NaN's where condition is not met"
   ]
  },
  {
   "cell_type": "markdown",
   "metadata": {},
   "source": [
    "### Setting\n",
    "\n",
    "Combination of selection and setting of values"
   ]
  },
  {
   "cell_type": "code",
   "execution_count": null,
   "metadata": {},
   "outputs": [],
   "source": [
    "# setting values by label (same as by position)\n",
    "df.at[dates[0],'A'] = 0\n",
    "\n",
    "# setting and assigning a numpy array\n",
    "df.loc[:,'D'] = np.array([5] * len(df))\n",
    "\n",
    "# defining a brend new column\n",
    "df['E'] = np.arange(len(df))*0.5\n",
    "\n",
    "# defining a brend new column by means of a pd.Series: indexes must be the same!\n",
    "df['E prime'] = pd.Series(np.arange(len(df))*2, index=df.index)\n",
    "\n",
    "df"
   ]
  },
  {
   "cell_type": "code",
   "execution_count": null,
   "metadata": {},
   "outputs": [],
   "source": [
    "def dcos(theta):\n",
    "    theta = theta*(np.pi/180)\n",
    "    return np.cos(theta)\n",
    " \n",
    "df['cosine'] = pd.Series(df[\"E\"].apply(dcos), index=df.index)\n",
    "df"
   ]
  },
  {
   "cell_type": "code",
   "execution_count": null,
   "metadata": {},
   "outputs": [],
   "source": [
    "# another example of global setting\n",
    "df2=df.copy()\n",
    "\n",
    "df2[df2>0] = -df2\n",
    "df2"
   ]
  },
  {
   "cell_type": "markdown",
   "metadata": {},
   "source": [
    "### Are you dealing with a Copy or a View?\n",
    "\n",
    "In general is hard to tell.."
   ]
  },
  {
   "cell_type": "code",
   "execution_count": null,
   "metadata": {},
   "outputs": [],
   "source": [
    "dfd = pd.DataFrame({'a': [1, 2, 3], 'b': [4, 5, 6]})\n",
    "\n",
    "# This is likely a view\n",
    "subset = dfd.loc[0:1, 'a']  \n",
    "subset[0] = 100  # May affect `df`\n",
    "\n",
    "print (dfd)\n",
    "\n",
    "# This is a copy\n",
    "subset = dfd.loc[[0, 1], 'a']  \n",
    "subset[0] = 200  # Does NOT affect `df`\n",
    "\n",
    "print (dfd)\n",
    "\n"
   ]
  },
  {
   "cell_type": "markdown",
   "metadata": {},
   "source": [
    "The behaviour depend on the version of Pandas and on the version of Numpy that given version of Pandas depends upon. Since Pandas 1.5 \"Copy-on-Write\" (CoW) is (optionally) available and as of Pandas 3.0 will be the default. \n",
    "\n",
    "With CoW chained assignemt will never work; in the following example, the view `df[\"foo\"]` and `df` itself are modified in one step. This will lead to a `ChainedAssignemntError`  "
   ]
  },
  {
   "cell_type": "code",
   "execution_count": null,
   "metadata": {},
   "outputs": [],
   "source": [
    "dfd[\"a\"][dfd[\"b\"] > 5] = 100\n",
    "dfd"
   ]
  },
  {
   "cell_type": "markdown",
   "metadata": {},
   "source": [
    "With copy on write this can be done by using `loc`"
   ]
  },
  {
   "cell_type": "code",
   "execution_count": null,
   "metadata": {},
   "outputs": [],
   "source": [
    "dfd.loc[dfd[\"b\"] > 5, \"a\"] = 200\n",
    "dfd"
   ]
  },
  {
   "cell_type": "markdown",
   "metadata": {},
   "source": [
    "### Dropping\n",
    "\n",
    "N.B.: dropping doesn't act permanently on the DataFrame, i.e. to get that do :\n",
    "```python\n",
    "df = df.drop(....)\n",
    "```"
   ]
  },
  {
   "cell_type": "code",
   "execution_count": null,
   "metadata": {},
   "outputs": [],
   "source": [
    "# Dropping by column\n",
    "df.drop(['E prime'], axis=1)\n",
    "\n",
    "#which is equivalent to\n",
    "new_df=df.drop(columns=['E prime'])\n",
    "new_df"
   ]
  },
  {
   "cell_type": "code",
   "execution_count": null,
   "metadata": {},
   "outputs": [],
   "source": [
    "# Dropping by raws\n",
    "# safe and always working\n",
    "df.drop(df.index[[1,2,3,4]])"
   ]
  },
  {
   "cell_type": "code",
   "execution_count": null,
   "metadata": {},
   "outputs": [],
   "source": [
    "df"
   ]
  },
  {
   "cell_type": "code",
   "execution_count": null,
   "metadata": {},
   "outputs": [],
   "source": [
    "# something like df.drop('index_name') \n",
    "# would work but the type of index must be specificed, \n",
    "# in particular with DatetimeIndex\n",
    "df.drop(pd.to_datetime(\"2024-11-27 18:45:00\"))"
   ]
  },
  {
   "cell_type": "markdown",
   "metadata": {},
   "source": [
    "## Missing data\n",
    "\n",
    "pandas primarily uses the value np.nan to represent missing data. It is by default not included in computations."
   ]
  },
  {
   "cell_type": "code",
   "execution_count": null,
   "metadata": {},
   "outputs": [],
   "source": [
    "df_wNan = df[df>0]\n",
    "df_wNan"
   ]
  },
  {
   "cell_type": "code",
   "execution_count": null,
   "metadata": {},
   "outputs": [],
   "source": [
    "# dropping raws with at least a Nan\n",
    "df_wNan.dropna(how='any')"
   ]
  },
  {
   "cell_type": "code",
   "execution_count": null,
   "metadata": {},
   "outputs": [],
   "source": [
    "# getting a mask\n",
    "df_wNan.isna()\n",
    "#df_wNan.notna()"
   ]
  },
  {
   "cell_type": "code",
   "execution_count": null,
   "metadata": {},
   "outputs": [],
   "source": [
    "# filling missing data\n",
    "df_wNan.fillna(value=0)"
   ]
  },
  {
   "cell_type": "markdown",
   "metadata": {},
   "source": [
    "Fill gaps forward or backward by propagating non-NA values forward or backward:"
   ]
  },
  {
   "cell_type": "code",
   "execution_count": null,
   "metadata": {},
   "outputs": [],
   "source": [
    "df_wNan.fillna(method='pad')"
   ]
  },
  {
   "cell_type": "markdown",
   "metadata": {},
   "source": [
    "## Operations\n",
    "\n",
    "Here comes the most relevant advantage of DataFrame. Operations on columns are extremly fast due to several intrinsic optimizations:\n",
    "\n",
    "* They are implemented in C/Cython via NumPy.\n",
    "* Pandas processes columns as contiguous memory arrays.\n",
    "* Vectorized operations eliminate the need for slow Python loops.\n",
    "* Efficient memory and cache utilization boost performance.\n"
   ]
  },
  {
   "cell_type": "code",
   "execution_count": null,
   "metadata": {},
   "outputs": [],
   "source": [
    "# Some statistics (mean() just as an example)\n",
    "# raws\n",
    "print (df.mean(axis=0),'\\n')\n",
    "# columns\n",
    "print (df.mean(axis=1),'\\n')"
   ]
  },
  {
   "cell_type": "code",
   "execution_count": null,
   "metadata": {},
   "outputs": [],
   "source": [
    "# global operations on columns\n",
    "df.apply(np.cumsum)"
   ]
  },
  {
   "cell_type": "code",
   "execution_count": null,
   "metadata": {},
   "outputs": [],
   "source": [
    "df"
   ]
  },
  {
   "cell_type": "code",
   "execution_count": null,
   "metadata": {},
   "outputs": [],
   "source": [
    "df.apply(lambda x: x.max() - x.min())"
   ]
  },
  {
   "cell_type": "code",
   "execution_count": null,
   "metadata": {},
   "outputs": [],
   "source": [
    "# syntax is as usual similar to that of numpy arrays\n",
    "df['A']+df['B']"
   ]
  },
  {
   "cell_type": "markdown",
   "metadata": {},
   "source": [
    "Let's play it hard and load (in memory) a (relatively) large dataset"
   ]
  },
  {
   "cell_type": "code",
   "execution_count": null,
   "metadata": {},
   "outputs": [],
   "source": [
    "# WARNING! link in past notebook was wrong!, (if needed) get the right file from:\n",
    "#!wget https://www.dropbox.com/s/xvjzaxzz3ysphme/data_000637.txt -P ~/data/\n",
    "\n",
    "file_name=\"~/data/data_000637.txt\"\n",
    "data=pd.read_csv(file_name)\n",
    "data.tail(10)"
   ]
  },
  {
   "cell_type": "markdown",
   "metadata": {},
   "source": [
    "Let's now do some operations among (elements of) columns"
   ]
  },
  {
   "cell_type": "code",
   "execution_count": null,
   "metadata": {},
   "outputs": [],
   "source": [
    "# the one-liner killing it all\n",
    "data['timens']=data['TDC_MEAS']*25/30+data['BX_COUNTER']*25"
   ]
  },
  {
   "cell_type": "code",
   "execution_count": null,
   "metadata": {},
   "outputs": [],
   "source": [
    "data['timens']"
   ]
  },
  {
   "cell_type": "code",
   "execution_count": null,
   "metadata": {},
   "outputs": [],
   "source": [
    "# the old slooow way\n",
    "def conversion(data):\n",
    "    result=[]\n",
    "    for i in range(len(data)): \n",
    "        result.append(data.loc[data.index[i],'TDC_MEAS']*25/30.+data.loc[data.index[i],'BX_COUNTER']*25)\n",
    "    return result\n",
    "\n",
    "data['timens']=conversion(data)"
   ]
  },
  {
   "cell_type": "markdown",
   "metadata": {},
   "source": [
    "For tasks on extremely large datasets, libraries like [Polars](https://docs.pola.rs) or [Dask](https://www.dask.org) can offer even faster alternatives by further parallelizing or optimizing columnar operations."
   ]
  },
  {
   "cell_type": "markdown",
   "metadata": {},
   "source": [
    "## Merge\n",
    "\n",
    "pandas provides various facilities for easily combining together Series, DataFrame, and Panel objects with various kinds of set logic for the indexes and relational algebra functionality in the case of join / merge-type operations.\n",
    "\n",
    "### Concat\n",
    "\n",
    "concatenation (adding rows) is straightforward\n"
   ]
  },
  {
   "cell_type": "code",
   "execution_count": null,
   "metadata": {},
   "outputs": [],
   "source": [
    "rdf = pd.DataFrame(np.random.randn(10, 4))\n",
    "rdf"
   ]
  },
  {
   "cell_type": "code",
   "execution_count": null,
   "metadata": {},
   "outputs": [],
   "source": [
    "# divide it into pieaces raw-wise\n",
    "pieces = [rdf[:3], rdf[3:7], rdf[7:]]\n",
    "pieces"
   ]
  },
  {
   "cell_type": "code",
   "execution_count": null,
   "metadata": {},
   "outputs": [],
   "source": [
    "# put it back together\n",
    "#pd.concat(pieces)\n",
    "\n",
    "# indexes can be ignored\n",
    "pd.concat(pieces, ignore_index=True)\n",
    "\n",
    "# in case of dimension mismatch, Nan are added where needed"
   ]
  },
  {
   "cell_type": "code",
   "execution_count": null,
   "metadata": {},
   "outputs": [],
   "source": [
    "# appending a single row (as a Series)\n",
    "s = rdf.iloc[3]\n",
    "rdf = pd.concat([rdf,s.to_frame().T], ignore_index=True)\n",
    "rdf"
   ]
  },
  {
   "cell_type": "markdown",
   "metadata": {},
   "source": [
    "### Merge/Join\n",
    "\n",
    "SQL like operations on table can be performed on DataFrames. This is all rather sophisticated, refer to the [doc](https://pandas.pydata.org/pandas-docs/stable/merging.html#merging) for more info/examples.\n",
    "\n",
    "#### Merging, Inner Join (default)\n",
    "\n",
    "Only rows with matching id values are included:"
   ]
  },
  {
   "cell_type": "code",
   "execution_count": null,
   "metadata": {},
   "outputs": [],
   "source": [
    "import pandas as pd\n",
    "\n",
    "df1 = pd.DataFrame({'id': [1, 2, 3], 'name': ['Alice', 'Bob', 'Charlie']})\n",
    "df2 = pd.DataFrame({'id': [2, 3, 4], 'age': [25, 30, 35]})\n",
    "\n",
    "# Merge on the 'id' column\n",
    "result = pd.merge(df1, df2, on='id')\n",
    "print(result)"
   ]
  },
  {
   "cell_type": "markdown",
   "metadata": {},
   "source": [
    "#### Merging, Left Join\n",
    "\n",
    "A left join includes all rows from `df1` (left) and fills in `NaN` for missing matches in `df2`."
   ]
  },
  {
   "cell_type": "code",
   "execution_count": null,
   "metadata": {},
   "outputs": [],
   "source": [
    "result = pd.merge(df1, df2, on='id', how='left')\n",
    "print(result)"
   ]
  },
  {
   "cell_type": "markdown",
   "metadata": {},
   "source": [
    "#### Merging, Outer Join\n",
    "\n",
    "An outer join includes all rows from both DataFrames, filling NaN for missing values"
   ]
  },
  {
   "cell_type": "code",
   "execution_count": null,
   "metadata": {},
   "outputs": [],
   "source": [
    "result = pd.merge(df1, df2, on='id', how='outer')\n",
    "print(result)"
   ]
  },
  {
   "cell_type": "markdown",
   "metadata": {},
   "source": [
    "`join` is similar to `merge` but uses index as key and has 'Left' as default"
   ]
  },
  {
   "cell_type": "code",
   "execution_count": null,
   "metadata": {},
   "outputs": [],
   "source": [
    "df1 = pd.DataFrame({'name': ['Alice', 'Bob', 'Charlie']}, index=[1, 2, 3])\n",
    "df2 = pd.DataFrame({'age': [25, 30, 35]}, index=[2, 3, 4])\n",
    "\n",
    "result = df1.join(df2)\n",
    "print(result)\n"
   ]
  },
  {
   "cell_type": "markdown",
   "metadata": {},
   "source": [
    "## Grouping\n",
    "\n",
    "By “group by” we are referring to a process involving one or more of the following steps:\n",
    "\n",
    "* Splitting the data into groups based on some criteria\n",
    "* Applying a function to each group independently\n",
    "* Combining the results into a data structure\n",
    "\n",
    "\n",
    "Grouping is one of the most powerful and at the same time most sofisticated action you can perform with DataFrames. Mastering it is key for an effective usage of Pandas and vectorized data analysis. Reading the [documentation](https://pandas.pydata.org/pandas-docs/stable/user_guide/groupby.html) or going through a [tutorial](https://realpython.com/pandas-groupby/) is warmly recommended. \n",
    "\n",
    "Let's go through a few examples:"
   ]
  },
  {
   "cell_type": "code",
   "execution_count": null,
   "metadata": {},
   "outputs": [],
   "source": [
    "data = {\n",
    "    'Category': ['A', 'B', 'A', 'B', 'A', 'C'],\n",
    "    'Values': [10, 20, 30, 40, 50, 60]\n",
    "}\n",
    "\n",
    "df = pd.DataFrame(data)\n",
    "\n",
    "# Group by 'Category' and calculate the sum\n",
    "result = df.groupby('Category').sum()\n",
    "print(result)\n"
   ]
  },
  {
   "cell_type": "code",
   "execution_count": null,
   "metadata": {},
   "outputs": [],
   "source": [
    "# Multiple Aggregations\n",
    "result = df.groupby('Category').agg(['sum', 'mean'])\n",
    "print(result)"
   ]
  },
  {
   "cell_type": "code",
   "execution_count": null,
   "metadata": {},
   "outputs": [],
   "source": [
    "# Grouping by multiple columns\n",
    "df = pd.DataFrame({'Category': ['A', 'A', 'B', 'B', 'C', 'C'],\n",
    "                   'Type': ['X', 'Y', 'X', 'Y', 'X', 'Y'],\n",
    "                   'Values': [10, 20, 30, 40, 50, 60]})\n",
    "\n",
    "result = df.groupby(['Category', 'Type']).sum()\n",
    "print(result)\n"
   ]
  },
  {
   "cell_type": "code",
   "execution_count": null,
   "metadata": {},
   "outputs": [],
   "source": [
    "# Trasformations using groupby(): add group averages to DataFrame\n",
    "df['Group_Avg'] = df.groupby('Category')['Values'].transform('mean')\n",
    "print(df)"
   ]
  },
  {
   "cell_type": "code",
   "execution_count": null,
   "metadata": {},
   "outputs": [],
   "source": [
    "# filtering\n",
    "filtered = df.groupby('Category').filter(lambda x: x['Values'].sum() > 50)\n",
    "print(filtered)"
   ]
  },
  {
   "cell_type": "code",
   "execution_count": null,
   "metadata": {},
   "outputs": [],
   "source": [
    "# custom aggregation with apply()\n",
    "def custom_aggregation(group):\n",
    "    return pd.Series({\n",
    "        'Sum': group['Values'].sum(),\n",
    "        'Max': group['Values'].max(),\n",
    "        'Count': group['Values'].count()\n",
    "    })\n",
    "\n",
    "result = df.groupby('Category').apply(custom_aggregation)\n",
    "print(result)"
   ]
  },
  {
   "cell_type": "code",
   "execution_count": null,
   "metadata": {},
   "outputs": [],
   "source": [
    "# splitting data into groups\n",
    "grouped = df.groupby('Category')\n",
    "\n",
    "for name, group in grouped:\n",
    "    print(f\"Group: {name}\")\n",
    "    print(group)\n"
   ]
  },
  {
   "cell_type": "markdown",
   "metadata": {},
   "source": [
    "## Multi-indexing\n",
    "\n",
    "\n",
    "Hierarchical / Multi-level indexing allows sophisticated data analysis on higher dimensional data. In essence, it enables you to store and manipulate data with an arbitrary number of dimensions in lower dimensional data structures like Series (1d) and DataFrame (2d)."
   ]
  },
  {
   "cell_type": "code",
   "execution_count": null,
   "metadata": {},
   "outputs": [],
   "source": [
    "tuples = list(zip(['bar', 'bar', 'baz', 'baz', 'foo', 'foo', 'qux', 'qux'],\n",
    "          ['one', 'two', 'one', 'two', 'one', 'two', 'one', 'two']))\n",
    "multi_index = pd.MultiIndex.from_tuples(tuples, names=['first', 'second'])\n",
    "print (multi_index,'\\n')\n",
    "\n",
    "s = pd.Series(np.random.randn(8), index=multi_index)\n",
    "print (s)\n"
   ]
  },
  {
   "cell_type": "code",
   "execution_count": null,
   "metadata": {},
   "outputs": [],
   "source": [
    "gdf = pd.DataFrame({'A' : ['foo', 'bar', 'foo', 'bar',\n",
    "                          'foo', 'bar', 'foo', 'foo'],\n",
    "                    'B' : ['one', 'one', 'two', 'three',\n",
    "                           'two', 'two', 'one', 'three'],\n",
    "                    'C' : np.random.randn(8),\n",
    "                    'D' : np.random.randn(8)})\n",
    "gdf\n",
    "\n",
    "# it enables further features of the groupby method,\n",
    "# e.g. when group-by by multiple columns\n",
    "gdf.groupby(['A','B']).sum()"
   ]
  },
  {
   "cell_type": "code",
   "execution_count": null,
   "metadata": {},
   "outputs": [],
   "source": [
    "# stack() method “compresses” a level in the DataFrame’s columns\n",
    "gdf.groupby(['A','B']).sum().stack()"
   ]
  },
  {
   "cell_type": "markdown",
   "metadata": {},
   "source": [
    "## Plotting\n",
    "\n",
    "Just a preview, more on the next lab class!"
   ]
  },
  {
   "cell_type": "code",
   "execution_count": null,
   "metadata": {},
   "outputs": [],
   "source": [
    "ts = pd.Series(np.random.randn(1000), index=pd.date_range('1/1/2000', periods=1000))\n",
    "ts.cumsum().plot()"
   ]
  },
  {
   "cell_type": "code",
   "execution_count": null,
   "metadata": {},
   "outputs": [],
   "source": [
    "import matplotlib.pyplot as plt\n",
    "\n",
    "pdf=pd.DataFrame(np.random.randn(1000, 4), index=ts.index,columns=['A', 'B', 'C', 'D'])\n",
    "pdf = pdf.cumsum()\n",
    "plt.figure(); pdf.plot(); plt.legend(loc='best')"
   ]
  },
  {
   "cell_type": "code",
   "execution_count": null,
   "metadata": {},
   "outputs": [],
   "source": []
  }
 ],
 "metadata": {
  "kernelspec": {
   "display_name": "Python 3",
   "language": "python",
   "name": "python3"
  },
  "language_info": {
   "codemirror_mode": {
    "name": "ipython",
    "version": 3
   },
   "file_extension": ".py",
   "mimetype": "text/x-python",
   "name": "python",
   "nbconvert_exporter": "python",
   "pygments_lexer": "ipython3",
   "version": "3.6.8"
  }
 },
 "nbformat": 4,
 "nbformat_minor": 2
}
