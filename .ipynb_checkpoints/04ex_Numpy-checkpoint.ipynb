{
 "cells": [
  {
   "cell_type": "markdown",
   "metadata": {},
   "source": [
    "### Numpy basics"
   ]
  },
  {
   "cell_type": "markdown",
   "metadata": {},
   "source": [
    "1\\. Find the row, column and overall means for the following matrix:\n",
    "\n",
    "```python\n",
    "m = np.arange(12).reshape((3,4))\n",
    "```"
   ]
  },
  {
   "cell_type": "code",
   "execution_count": 1,
   "metadata": {},
   "outputs": [
    {
     "name": "stdout",
     "output_type": "stream",
     "text": [
      "Row means: [1.5 5.5 9.5]\n",
      "Column means: [4. 5. 6. 7.]\n",
      "Overall mean: 5.5\n"
     ]
    }
   ],
   "source": [
    "import numpy as np\n",
    "\n",
    "m = np.arange(12).reshape((3,4))\n",
    "\n",
    "# Row means\n",
    "row_means = m.mean(axis=1)\n",
    "print(\"Row means:\", row_means)\n",
    "\n",
    "# Column means\n",
    "col_means = m.mean(axis=0)\n",
    "print(\"Column means:\", col_means)\n",
    "\n",
    "# Overall mean\n",
    "overall_mean = m.mean()\n",
    "print(\"Overall mean:\", overall_mean)"
   ]
  },
  {
   "cell_type": "markdown",
   "metadata": {},
   "source": [
    "2\\. Find the outer product of the following two vecotrs\n",
    "\n",
    "```python\n",
    "u = np.array([1,3,5,7])\n",
    "v = np.array([2,4,6,8])\n",
    "```\n",
    "\n",
    "Do this in the following ways:\n",
    "\n",
    "   * Using the function outer in numpy\n",
    "   * Using a nested for loop or list comprehension\n",
    "   * Using numpy broadcasting operatoins\n"
   ]
  },
  {
   "cell_type": "code",
   "execution_count": 4,
   "metadata": {},
   "outputs": [
    {
     "name": "stdout",
     "output_type": "stream",
     "text": [
      "NumPy outer product:\n",
      " [[ 2  4  6  8]\n",
      " [ 6 12 18 24]\n",
      " [10 20 30 40]\n",
      " [14 28 42 56]]\n",
      "Nested loop product:\n",
      " [[ 2.  4.  6.  8.]\n",
      " [ 6. 12. 18. 24.]\n",
      " [10. 20. 30. 40.]\n",
      " [14. 28. 42. 56.]]\n",
      "Broadcasting product:\n",
      " [[ 2  4  6  8]\n",
      " [ 6 12 18 24]\n",
      " [10 20 30 40]\n",
      " [14 28 42 56]]\n"
     ]
    }
   ],
   "source": [
    "import numpy as np\n",
    "\n",
    "u = np.array([1,3,5,7])\n",
    "v = np.array([2,4,6,8])\n",
    "\n",
    "# Using numpy.outer\n",
    "outer_product1 = np.outer(u, v)\n",
    "print(\"NumPy outer product:\\n\", outer_product1)\n",
    "\n",
    "outer_product2 = np.zeros((len(u), len(v)))\n",
    "for i in range(len(u)):\n",
    "    for j in range(len(v)):\n",
    "        outer_product2[i,j] = u[i] * v[j]\n",
    "print(\"Nested loop product:\\n\", outer_product2)\n",
    "\n",
    "outer_product3 = u[:, np.newaxis] * v[np.newaxis, :]\n",
    "print(\"Broadcasting product:\\n\", outer_product3)"
   ]
  },
  {
   "cell_type": "markdown",
   "metadata": {},
   "source": [
    "3\\. Create a 10 by 6 matrix of random uniform numbers. Set all rows with any entry less than 0.1 to be zero\n",
    "\n",
    "Hint: Use the following numpy functions - np.random.random, np.any as well as Boolean indexing and the axis argument."
   ]
  },
  {
   "cell_type": "code",
   "execution_count": 5,
   "metadata": {},
   "outputs": [
    {
     "name": "stdout",
     "output_type": "stream",
     "text": [
      "[[0.55808863 0.30322621 0.84626012 0.77868391 0.7280488  0.20502174]\n",
      " [0.80501194 0.20055996 0.2781804  0.37906046 0.30401379 0.14999479]\n",
      " [0.         0.         0.         0.         0.         0.        ]\n",
      " [0.42367619 0.21811011 0.6364116  0.90199378 0.57209872 0.51732167]\n",
      " [0.         0.         0.         0.         0.         0.        ]\n",
      " [0.64089953 0.42622457 0.39359779 0.75111096 0.67058737 0.64794069]\n",
      " [0.         0.         0.         0.         0.         0.        ]\n",
      " [0.94573895 0.899492   0.40594666 0.86021035 0.28105033 0.88482485]\n",
      " [0.         0.         0.         0.         0.         0.        ]\n",
      " [0.57356962 0.33795849 0.15051045 0.2853607  0.51578526 0.90330516]]\n"
     ]
    }
   ],
   "source": [
    "import numpy as np\n",
    "\n",
    "# Create 10x6 matrix of random uniform numbers\n",
    "matrix = np.random.random((10, 6))\n",
    "\n",
    "# Set rows with any entry less than 0.1 to zero\n",
    "matrix[np.any(matrix < 0.1, axis=1)] = 0\n",
    "\n",
    "print(matrix)"
   ]
  },
  {
   "cell_type": "markdown",
   "metadata": {},
   "source": [
    "4\\. Use np.linspace to create an array of 100 numbers between 0 and 2π (includsive).\n",
    "\n",
    "  * Extract every 10th element using slice notation\n",
    "  * Reverse the array using slice notation\n",
    "  * Extract elements where the absolute difference between the sine and cosine functions evaluated at that element is less than 0.1\n",
    "  * Make a plot showing the sin and cos functions and indicate where they are close"
   ]
  },
  {
   "cell_type": "code",
   "execution_count": 7,
   "metadata": {},
   "outputs": [
    {
     "name": "stdout",
     "output_type": "stream",
     "text": [
      "Collecting matplotlib\n",
      "  Downloading matplotlib-3.9.2-cp312-cp312-macosx_11_0_arm64.whl.metadata (11 kB)\n",
      "Collecting contourpy>=1.0.1 (from matplotlib)\n",
      "  Downloading contourpy-1.3.1-cp312-cp312-macosx_11_0_arm64.whl.metadata (5.4 kB)\n",
      "Collecting cycler>=0.10 (from matplotlib)\n",
      "  Using cached cycler-0.12.1-py3-none-any.whl.metadata (3.8 kB)\n",
      "Collecting fonttools>=4.22.0 (from matplotlib)\n",
      "  Downloading fonttools-4.55.0-cp312-cp312-macosx_10_13_universal2.whl.metadata (164 kB)\n",
      "Collecting kiwisolver>=1.3.1 (from matplotlib)\n",
      "  Downloading kiwisolver-1.4.7-cp312-cp312-macosx_11_0_arm64.whl.metadata (6.3 kB)\n",
      "Requirement already satisfied: numpy>=1.23 in /opt/homebrew/Cellar/jupyterlab/4.2.5_1/libexec/lib/python3.12/site-packages (from matplotlib) (2.1.3)\n",
      "Requirement already satisfied: packaging>=20.0 in /opt/homebrew/Cellar/jupyterlab/4.2.5_1/libexec/lib/python3.12/site-packages (from matplotlib) (24.1)\n",
      "Collecting pillow>=8 (from matplotlib)\n",
      "  Downloading pillow-11.0.0-cp312-cp312-macosx_11_0_arm64.whl.metadata (9.1 kB)\n",
      "Collecting pyparsing>=2.3.1 (from matplotlib)\n",
      "  Downloading pyparsing-3.2.0-py3-none-any.whl.metadata (5.0 kB)\n",
      "Requirement already satisfied: python-dateutil>=2.7 in /opt/homebrew/Cellar/jupyterlab/4.2.5_1/libexec/lib/python3.12/site-packages (from matplotlib) (2.9.0.post0)\n",
      "Requirement already satisfied: six>=1.5 in /opt/homebrew/Cellar/jupyterlab/4.2.5_1/libexec/lib/python3.12/site-packages (from python-dateutil>=2.7->matplotlib) (1.16.0)\n",
      "Downloading matplotlib-3.9.2-cp312-cp312-macosx_11_0_arm64.whl (7.8 MB)\n",
      "\u001b[2K   \u001b[90m━━━━━━━━━━━━━━━━━━━━━━━━━━━━━━━━━━━━━━━━\u001b[0m \u001b[32m7.8/7.8 MB\u001b[0m \u001b[31m2.1 MB/s\u001b[0m eta \u001b[36m0:00:00\u001b[0ma \u001b[36m0:00:01\u001b[0m\n",
      "\u001b[?25hDownloading contourpy-1.3.1-cp312-cp312-macosx_11_0_arm64.whl (255 kB)\n",
      "Using cached cycler-0.12.1-py3-none-any.whl (8.3 kB)\n",
      "Downloading fonttools-4.55.0-cp312-cp312-macosx_10_13_universal2.whl (2.8 MB)\n",
      "\u001b[2K   \u001b[90m━━━━━━━━━━━━━━━━━━━━━━━━━━━━━━━━━━━━━━━━\u001b[0m \u001b[32m2.8/2.8 MB\u001b[0m \u001b[31m3.0 MB/s\u001b[0m eta \u001b[36m0:00:00\u001b[0ma \u001b[36m0:00:01\u001b[0m\n",
      "\u001b[?25hDownloading kiwisolver-1.4.7-cp312-cp312-macosx_11_0_arm64.whl (63 kB)\n",
      "Downloading pillow-11.0.0-cp312-cp312-macosx_11_0_arm64.whl (3.0 MB)\n",
      "\u001b[2K   \u001b[90m━━━━━━━━━━━━━━━━━━━━━━━━━━━━━━━━━━━━━━━━\u001b[0m \u001b[32m3.0/3.0 MB\u001b[0m \u001b[31m2.3 MB/s\u001b[0m eta \u001b[36m0:00:00\u001b[0ma \u001b[36m0:00:01\u001b[0m\n",
      "\u001b[?25hDownloading pyparsing-3.2.0-py3-none-any.whl (106 kB)\n",
      "Installing collected packages: pyparsing, pillow, kiwisolver, fonttools, cycler, contourpy, matplotlib\n",
      "Successfully installed contourpy-1.3.1 cycler-0.12.1 fonttools-4.55.0 kiwisolver-1.4.7 matplotlib-3.9.2 pillow-11.0.0 pyparsing-3.2.0\n",
      "\n",
      "\u001b[1m[\u001b[0m\u001b[34;49mnotice\u001b[0m\u001b[1;39;49m]\u001b[0m\u001b[39;49m A new release of pip is available: \u001b[0m\u001b[31;49m24.2\u001b[0m\u001b[39;49m -> \u001b[0m\u001b[32;49m24.3.1\u001b[0m\n",
      "\u001b[1m[\u001b[0m\u001b[34;49mnotice\u001b[0m\u001b[1;39;49m]\u001b[0m\u001b[39;49m To update, run: \u001b[0m\u001b[32;49m/opt/homebrew/Cellar/jupyterlab/4.2.5_1/libexec/bin/python -m pip install --upgrade pip\u001b[0m\n",
      "Note: you may need to restart the kernel to use updated packages.\n"
     ]
    }
   ],
   "source": [
    "pip install matplotlib"
   ]
  },
  {
   "cell_type": "code",
   "execution_count": 8,
   "metadata": {},
   "outputs": [
    {
     "data": {
      "image/png": "[encoded data removed]",
      "text/plain": [
       "<Figure size 1000x600 with 1 Axes>"
      ]
     },
     "metadata": {},
     "output_type": "display_data"
    }
   ],
   "source": [
    "import numpy as np\n",
    "import matplotlib.pyplot as plt\n",
    "\n",
    "# Create an array of 100 numbers between 0 and 2π (inclusive)\n",
    "x = np.linspace(0, 2 * np.pi, 100)\n",
    "\n",
    "# Extract every 10th element using slice notation\n",
    "every_10th = x[::10]\n",
    "\n",
    "# Reverse the array using slice notation\n",
    "reversed_x = x[::-1]\n",
    "\n",
    "# Compute sine and cosine\n",
    "sin_x = np.sin(x)\n",
    "cos_x = np.cos(x)\n",
    "\n",
    "# Extract elements where |sin(x) - cos(x)| < 0.1\n",
    "close_points = x[np.abs(sin_x - cos_x) < 0.1]\n",
    "\n",
    "# Plot sin and cos functions and indicate close points\n",
    "plt.figure(figsize=(10, 6))\n",
    "plt.plot(x, sin_x, label=\"sin(x)\", color='blue')\n",
    "plt.plot(x, cos_x, label=\"cos(x)\", color='orange')\n",
    "plt.scatter(close_points, np.sin(close_points), color='red', label=\"|sin(x) - cos(x)| < 0.1\")\n",
    "plt.title(\"sin(x) and cos(x) with Close Points Highlighted\")\n",
    "plt.xlabel(\"x\")\n",
    "plt.ylabel(\"y\")\n",
    "plt.legend()\n",
    "plt.grid(True)\n",
    "plt.show()\n"
   ]
  },
  {
   "cell_type": "markdown",
   "metadata": {},
   "source": [
    "5\\. Create a matrix that shows the 10 by 10 multiplication table.\n",
    "\n",
    " * Find the trace of the matrix\n",
    " * Extract the anto-diagonal (this should be ```array([10, 18, 24, 28, 30, 30, 28, 24, 18, 10])```)\n",
    " * Extract the diagnoal offset by 1 upwards (this should be ```array([ 2,  6, 12, 20, 30, 42, 56, 72, 90])```)"
   ]
  },
  {
   "cell_type": "code",
   "execution_count": 9,
   "metadata": {},
   "outputs": [
    {
     "name": "stdout",
     "output_type": "stream",
     "text": [
      "Multiplication Table:\n",
      " [[  1   2   3   4   5   6   7   8   9  10]\n",
      " [  2   4   6   8  10  12  14  16  18  20]\n",
      " [  3   6   9  12  15  18  21  24  27  30]\n",
      " [  4   8  12  16  20  24  28  32  36  40]\n",
      " [  5  10  15  20  25  30  35  40  45  50]\n",
      " [  6  12  18  24  30  36  42  48  54  60]\n",
      " [  7  14  21  28  35  42  49  56  63  70]\n",
      " [  8  16  24  32  40  48  56  64  72  80]\n",
      " [  9  18  27  36  45  54  63  72  81  90]\n",
      " [ 10  20  30  40  50  60  70  80  90 100]]\n",
      "Trace of the matrix: 385\n",
      "Anti-diagonal: [10 18 24 28 30 30 28 24 18 10]\n",
      "Diagonal offset by 1 upwards: [ 2  6 12 20 30 42 56 72 90]\n"
     ]
    }
   ],
   "source": [
    "import numpy as np\n",
    "\n",
    "# Create a 10x10 multiplication table matrix\n",
    "multiplication_table = np.outer(np.arange(1, 11), np.arange(1, 11))\n",
    "\n",
    "# Find the trace of the matrix (sum of diagonal elements)\n",
    "trace_value = np.trace(multiplication_table)\n",
    "\n",
    "# Extract the anti-diagonal (secondary diagonal)\n",
    "anti_diagonal = np.fliplr(multiplication_table).diagonal()\n",
    "\n",
    "# Extract the diagonal offset by 1 upwards\n",
    "diagonal_offset_up = np.diagonal(multiplication_table, offset=1)\n",
    "\n",
    "# Print results\n",
    "print(\"Multiplication Table:\\n\", multiplication_table)\n",
    "print(\"Trace of the matrix:\", trace_value)\n",
    "print(\"Anti-diagonal:\", anti_diagonal)\n",
    "print(\"Diagonal offset by 1 upwards:\", diagonal_offset_up)\n"
   ]
  },
  {
   "cell_type": "markdown",
   "metadata": {},
   "source": [
    "6\\. Use broadcasting to create a grid of distances\n",
    "\n",
    "Route 66 crosses the following cities in the US: Chicago, Springfield, Saint-Louis, Tulsa, Oklahoma City, Amarillo, Santa Fe, Albuquerque, Flagstaff, Los Angeles\n",
    "The corresponding positions in miles are: 0, 198, 303, 736, 871, 1175, 1475, 1544, 1913, 2448\n",
    "\n",
    "  * Construct a 2D grid of distances among each city along Route 66\n",
    "  * Convert that in km (those savages...)"
   ]
  },
  {
   "cell_type": "code",
   "execution_count": 10,
   "metadata": {},
   "outputs": [
    {
     "data": {
      "text/plain": [
       "(array([[   0,  198,  303,  736,  871, 1175, 1475, 1544, 1913, 2448],\n",
       "        [ 198,    0,  105,  538,  673,  977, 1277, 1346, 1715, 2250],\n",
       "        [ 303,  105,    0,  433,  568,  872, 1172, 1241, 1610, 2145],\n",
       "        [ 736,  538,  433,    0,  135,  439,  739,  808, 1177, 1712],\n",
       "        [ 871,  673,  568,  135,    0,  304,  604,  673, 1042, 1577],\n",
       "        [1175,  977,  872,  439,  304,    0,  300,  369,  738, 1273],\n",
       "        [1475, 1277, 1172,  739,  604,  300,    0,   69,  438,  973],\n",
       "        [1544, 1346, 1241,  808,  673,  369,   69,    0,  369,  904],\n",
       "        [1913, 1715, 1610, 1177, 1042,  738,  438,  369,    0,  535],\n",
       "        [2448, 2250, 2145, 1712, 1577, 1273,  973,  904,  535,    0]]),\n",
       " array([[   0.     ,  318.64932,  487.63002, 1184.47424, 1401.73514,\n",
       "         1890.9745 , 2373.7765 , 2484.82096, 3078.66742, 3939.66432],\n",
       "        [ 318.64932,    0.     ,  168.9807 ,  865.82492, 1083.08582,\n",
       "         1572.32518, 2055.12718, 2166.17164, 2760.0181 , 3621.015  ],\n",
       "        [ 487.63002,  168.9807 ,    0.     ,  696.84422,  914.10512,\n",
       "         1403.34448, 1886.14648, 1997.19094, 2591.0374 , 3452.0343 ],\n",
       "        [1184.47424,  865.82492,  696.84422,    0.     ,  217.2609 ,\n",
       "          706.50026, 1189.30226, 1300.34672, 1894.19318, 2755.19008],\n",
       "        [1401.73514, 1083.08582,  914.10512,  217.2609 ,    0.     ,\n",
       "          489.23936,  972.04136, 1083.08582, 1676.93228, 2537.92918],\n",
       "        [1890.9745 , 1572.32518, 1403.34448,  706.50026,  489.23936,\n",
       "            0.     ,  482.802  ,  593.84646, 1187.69292, 2048.68982],\n",
       "        [2373.7765 , 2055.12718, 1886.14648, 1189.30226,  972.04136,\n",
       "          482.802  ,    0.     ,  111.04446,  704.89092, 1565.88782],\n",
       "        [2484.82096, 2166.17164, 1997.19094, 1300.34672, 1083.08582,\n",
       "          593.84646,  111.04446,    0.     ,  593.84646, 1454.84336],\n",
       "        [3078.66742, 2760.0181 , 2591.0374 , 1894.19318, 1676.93228,\n",
       "         1187.69292,  704.89092,  593.84646,    0.     ,  860.9969 ],\n",
       "        [3939.66432, 3621.015  , 3452.0343 , 2755.19008, 2537.92918,\n",
       "         2048.68982, 1565.88782, 1454.84336,  860.9969 ,    0.     ]]))"
      ]
     },
     "execution_count": 10,
     "metadata": {},
     "output_type": "execute_result"
    }
   ],
   "source": [
    "# Positions of cities along Route 66 in miles\n",
    "city_positions_miles = np.array([0, 198, 303, 736, 871, 1175, 1475, 1544, 1913, 2448])\n",
    "\n",
    "# Create a grid of distances using broadcasting\n",
    "distance_grid_miles = np.abs(city_positions_miles[:, np.newaxis] - city_positions_miles)\n",
    "\n",
    "# Convert the grid to kilometers (1 mile = 1.60934 km)\n",
    "distance_grid_km = distance_grid_miles * 1.60934\n",
    "\n",
    "# Results\n",
    "distance_grid_miles, distance_grid_km\n"
   ]
  },
  {
   "cell_type": "markdown",
   "metadata": {},
   "source": [
    "7\\. Prime numbers sieve: compute the prime numbers in the 0-N (N=99 to start with) range with a sieve (mask).\n",
    "  * Constract a shape (100,) boolean array, the mask\n",
    "  * Identify the multiples of each number starting from 2 and set accordingly the corresponding mask element\n",
    "  * Apply the mask to obtain an array of ordered prime numbers\n",
    "  * Check the performances (timeit); how does it scale with N?\n",
    "  * Implement the optimization suggested in the [sieve of Eratosthenes](https://en.wikipedia.org/wiki/Sieve_of_Eratosthenes)"
   ]
  },
  {
   "cell_type": "code",
   "execution_count": 16,
   "metadata": {},
   "outputs": [
    {
     "data": {
      "text/plain": [
       "(array([   2,    3,    5, ..., 9949, 9967, 9973]),\n",
       " {100: 0.0002405419945716858,\n",
       "  1000: 0.0015734590124338865,\n",
       "  10000: 0.0062474580481648445,\n",
       "  100000: 0.005883958889171481})"
      ]
     },
     "execution_count": 16,
     "metadata": {},
     "output_type": "execute_result"
    }
   ],
   "source": [
    "import numpy as np\n",
    "import timeit\n",
    "\n",
    "def sieve_of_eratosthenes(N):\n",
    "    # Create a boolean array for the mask\n",
    "    mask = np.ones(N + 1, dtype=bool)\n",
    "    mask[:2] = False  # 0 and 1 are not prime\n",
    "\n",
    "    # Mark multiples of each number starting from 2\n",
    "    for i in range(2, int(np.sqrt(N)) + 1):\n",
    "        if mask[i]:\n",
    "            mask[i * i:N + 1:i] = False\n",
    "\n",
    "    # Apply the mask to obtain prime numbers\n",
    "    primes = np.flatnonzero(mask)\n",
    "    return primes\n",
    "\n",
    "N = 9999\n",
    "primes = sieve_of_eratosthenes(N)\n",
    "\n",
    "# Performance testing with timeit\n",
    "scaling_results = {}\n",
    "for n in [100, 1000, 10000, 100000]:\n",
    "    time_taken = timeit.timeit(lambda: sieve_of_eratosthenes(n), number=10)\n",
    "    scaling_results[n] = time_taken\n",
    "\n",
    "primes, scaling_results\n"
   ]
  },
  {
   "cell_type": "markdown",
   "metadata": {},
   "source": [
    "**N.B. the following exercises are meant to be solved only if you are familiar with the numpy random library. If not you can skip them (postponed for one of the next exercise sessions)**\n"
   ]
  },
  {
   "cell_type": "markdown",
   "metadata": {},
   "source": [
    "8\\. Diffusion using random walk\n",
    "\n",
    "Consider a simple random walk process: at each step in time, a walker jumps right or left (+1 or -1) with equal probability. The goal is to find the typical distance from the origin of a random walker after a given amount of time. \n",
    "To do that, let's simulate many walkers and create a 2D array with each walker as a raw and the actual time evolution as columns\n",
    "\n",
    "  * Take 1000 walkers and let them walk for 200 steps\n",
    "  * Use randint to create a 2D array of size walkers x steps with values -1 or 1\n",
    "  * Build the actual walking distances for each walker (i.e. another 2D array \"summing on each raw\")\n",
    "  * Take the square of that 2D array (elementwise)\n",
    "  * Compute the mean of the squared distances at each step (i.e. the mean along the columns)\n",
    "  * Plot the average distances (sqrt(distance\\*\\*2)) as a function of time (step)\n",
    "  \n",
    "Did you get what you expected?"
   ]
  },
  {
   "cell_type": "markdown",
   "metadata": {},
   "source": [
    "9\\. Analyze a data file \n",
    "  * Download the population of hares, lynxes and carrots at the beginning of the last century.\n",
    "    ```python\n",
    "    ! wget https://www.dropbox.com/s/3vigxoqayo389uc/populations.txt\n",
    "    ```\n",
    "\n",
    "  * Check the content by looking within the file\n",
    "  * Load the data (use an appropriate numpy method) into a 2D array\n",
    "  * Create arrays out of the columns, the arrays being (in order): *year*, *hares*, *lynxes*, *carrots* \n",
    "  * Plot the 3 populations over the years\n",
    "  * Compute the main statistical properties of the dataset (mean, std, correlations, etc.)\n",
    "  * Which species has the highest population each year?\n",
    "\n",
    "Do you feel there is some evident correlation here? [Studies](https://www.enr.gov.nt.ca/en/services/lynx/lynx-snowshoe-hare-cycle) tend to believe so."
   ]
  }
 ],
 "metadata": {
  "kernelspec": {
   "display_name": "Python 3 (ipykernel)",
   "language": "python",
   "name": "python3"
  },
  "language_info": {
   "codemirror_mode": {
    "name": "ipython",
    "version": 3
   },
   "file_extension": ".py",
   "mimetype": "text/x-python",
   "name": "python",
   "nbconvert_exporter": "python",
   "pygments_lexer": "ipython3",
   "version": "3.12.7"
  }
 },
 "nbformat": 4,
 "nbformat_minor": 4
}
