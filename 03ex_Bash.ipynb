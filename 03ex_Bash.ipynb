{
 "cells": [
  {
   "cell_type": "markdown",
<<<<<<< HEAD
=======
   "id": "b5746bd0",
>>>>>>> ae2ce62ebcc88dcad3254b00904be62d381ffdb9
   "metadata": {},
   "source": [
    "The following exercises are meant to be solved by gathering the bash commands incrimentally in two scripts, one for ex 1.* the other for ex 2.* "
   ]
  },
  {
   "cell_type": "markdown",
<<<<<<< HEAD
=======
   "id": "4e60de78",
>>>>>>> ae2ce62ebcc88dcad3254b00904be62d381ffdb9
   "metadata": {},
   "source": [
    "### Ex 1"
   ]
  },
  {
   "cell_type": "markdown",
<<<<<<< HEAD
=======
   "id": "6759df36",
>>>>>>> ae2ce62ebcc88dcad3254b00904be62d381ffdb9
   "metadata": {},
   "source": [
    "1\\.a Make a new directory called `students` in your home. Download a csv file with the list of students of this lab from [here](https://www.dropbox.com/s/867rtx3az6e9gm8/LCP_22-23_students.csv) (use the `wget` command) and copy that to `students`. First check whether the file is already there"
   ]
  },
  {
   "cell_type": "markdown",
<<<<<<< HEAD
=======
   "id": "798c0c9d",
>>>>>>> ae2ce62ebcc88dcad3254b00904be62d381ffdb9
   "metadata": {},
   "source": [
    "1\\.b Make two new files, one containing the students belonging to PoD, the other to Physics."
   ]
  },
  {
   "cell_type": "markdown",
<<<<<<< HEAD
=======
   "id": "8a43d622",
>>>>>>> ae2ce62ebcc88dcad3254b00904be62d381ffdb9
   "metadata": {},
   "source": [
    "1\\.c For each letter of the alphabet, count the number of students whose surname starts with that letter. "
   ]
  },
  {
   "cell_type": "markdown",
<<<<<<< HEAD
=======
   "id": "4ba6bc90",
>>>>>>> ae2ce62ebcc88dcad3254b00904be62d381ffdb9
   "metadata": {},
   "source": [
    "1\\.d Find out which is the letter with most counts."
   ]
  },
  {
   "cell_type": "markdown",
<<<<<<< HEAD
=======
   "id": "086a043c",
>>>>>>> ae2ce62ebcc88dcad3254b00904be62d381ffdb9
   "metadata": {},
   "source": [
    "1\\.e Assume an obvious numbering of the students in the file (first line is 1, second line is 2, etc.), group students \"modulo 18\", i.e. 1,19,37,.. 2,20,38,.. etc. and put each group in a separate file  "
   ]
  },
  {
   "cell_type": "markdown",
<<<<<<< HEAD
=======
   "id": "1d730d21",
>>>>>>> ae2ce62ebcc88dcad3254b00904be62d381ffdb9
   "metadata": {},
   "source": [
    "### Ex 2"
   ]
  },
  {
   "cell_type": "markdown",
<<<<<<< HEAD
=======
   "id": "4b87ecb7",
>>>>>>> ae2ce62ebcc88dcad3254b00904be62d381ffdb9
   "metadata": {},
   "source": [
    "2.a Make a copy of the file `data.csv` removing the metadata and the commas between numbers; call it `data.txt`"
   ]
  },
  {
   "cell_type": "markdown",
<<<<<<< HEAD
=======
   "id": "344048c8",
>>>>>>> ae2ce62ebcc88dcad3254b00904be62d381ffdb9
   "metadata": {},
   "source": [
    "2\\.b How many even numbers are there?"
   ]
  },
  {
   "cell_type": "markdown",
<<<<<<< HEAD
=======
   "id": "2a27138d",
>>>>>>> ae2ce62ebcc88dcad3254b00904be62d381ffdb9
   "metadata": {},
   "source": [
    "2\\.c Distinguish the entries on the basis of `sqrt(X^2 + Y^2 + Z^2)` is greater or smaller than `100*sqrt(3)/2`. Count the entries of each of the two groups "
   ]
  },
  {
   "cell_type": "markdown",
<<<<<<< HEAD
=======
   "id": "e937ef4e",
>>>>>>> ae2ce62ebcc88dcad3254b00904be62d381ffdb9
   "metadata": {},
   "source": [
    "2\\.d Make `n` copies of data.txt (with `n` an input parameter of the script), where the i-th copy has all the numbers divided by i (with `1<=i<=n`)."
   ]
  }
 ],
 "metadata": {
  "kernelspec": {
<<<<<<< HEAD
   "display_name": "Python 3",
=======
   "display_name": "Python 3 (ipykernel)",
>>>>>>> ae2ce62ebcc88dcad3254b00904be62d381ffdb9
   "language": "python",
   "name": "python3"
  },
  "language_info": {
   "codemirror_mode": {
    "name": "ipython",
    "version": 3
   },
   "file_extension": ".py",
   "mimetype": "text/x-python",
   "name": "python",
   "nbconvert_exporter": "python",
   "pygments_lexer": "ipython3",
<<<<<<< HEAD
   "version": "3.6.8"
=======
   "version": "3.9.7"
>>>>>>> ae2ce62ebcc88dcad3254b00904be62d381ffdb9
  }
 },
 "nbformat": 4,
 "nbformat_minor": 5
}
